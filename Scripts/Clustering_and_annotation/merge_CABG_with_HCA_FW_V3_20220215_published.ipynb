{
 "cells": [
  {
   "cell_type": "markdown",
   "metadata": {},
   "source": [
    "# Merge IHD with HCA AP V3 controls\n",
    "## Analysis date 2022/02/15"
   ]
  },
  {
   "cell_type": "code",
   "execution_count": 1,
   "metadata": {},
   "outputs": [
    {
     "name": "stdout",
     "output_type": "stream",
     "text": [
      "scanpy==1.8.2 anndata==0.7.6 umap==0.5.2 numpy==1.20.1 scipy==1.7.1 pandas==1.3.4 scikit-learn==1.0.1 statsmodels==0.13.0 python-igraph==0.9.8 pynndescent==0.5.4\n"
     ]
    }
   ],
   "source": [
    "import numpy as np\n",
    "import pandas as pd\n",
    "import anndata\n",
    "import scanpy as sc\n",
    "import seaborn as sns\n",
    "import harmonypy as hm\n",
    "import scrublet as scr\n",
    "import matplotlib.pyplot as plt\n",
    "from collections import OrderedDict\n",
    "\n",
    "sc.settings.verbosity = 1  # verbosity: errors (0), warnings (1), info (2), hints (3)\n",
    "sc.settings.set_figure_params(dpi=120, color_map='viridis')\n",
    "sc.logging.print_header()"
   ]
  },
  {
   "cell_type": "markdown",
   "metadata": {},
   "source": [
    "## Read data"
   ]
  },
  {
   "cell_type": "code",
   "execution_count": 2,
   "metadata": {},
   "outputs": [],
   "source": [
    "INDIR='..'\n",
    "OUTDIR='.'"
   ]
  },
  {
   "cell_type": "code",
   "execution_count": 3,
   "metadata": {},
   "outputs": [],
   "source": [
    "LVAD_orig = sc.read_h5ad(INDIR + '/CABG_merged_filtered_2022-02-15.h5ad')"
   ]
  },
  {
   "cell_type": "code",
   "execution_count": 5,
   "metadata": {},
   "outputs": [
    {
     "data": {
      "text/plain": [
       "Index(['n_genes', 'percent_mito', 'n_counts', 'log_counts', 'percent_ribo',\n",
       "       'scrublet_score', 'predicted_doublets', 'Sample', 'Patient', 'Source',\n",
       "       'Region', 'Group', 'Sample_type', 'Location', 'batch'],\n",
       "      dtype='object')"
      ]
     },
     "execution_count": 5,
     "metadata": {},
     "output_type": "execute_result"
    }
   ],
   "source": [
    "LVAD_orig.obs.columns"
   ]
  },
  {
   "cell_type": "code",
   "execution_count": 7,
   "metadata": {},
   "outputs": [
    {
     "data": {
      "text/plain": [
       "Index(['MIR1302-2HG', 'FAM138A', 'OR4F5', 'AL627309.1', 'AL627309.3',\n",
       "       'AL627309.2', 'AL627309.5', 'AL627309.4', 'AP006222.2', 'AL732372.1',\n",
       "       ...\n",
       "       'AC133551.1', 'AC136612.1', 'AC136616.1', 'AC136616.3', 'AC136616.2',\n",
       "       'AC141272.1', 'AC023491.2', 'AC007325.1', 'AC007325.4', 'AC007325.2'],\n",
       "      dtype='object', length=36601)"
      ]
     },
     "execution_count": 7,
     "metadata": {},
     "output_type": "execute_result"
    }
   ],
   "source": [
    "LVAD_orig.var_names"
   ]
  },
  {
   "cell_type": "code",
   "execution_count": 8,
   "metadata": {},
   "outputs": [
    {
     "data": {
      "text/html": [
       "<div>\n",
       "<style scoped>\n",
       "    .dataframe tbody tr th:only-of-type {\n",
       "        vertical-align: middle;\n",
       "    }\n",
       "\n",
       "    .dataframe tbody tr th {\n",
       "        vertical-align: top;\n",
       "    }\n",
       "\n",
       "    .dataframe thead th {\n",
       "        text-align: right;\n",
       "    }\n",
       "</style>\n",
       "<table border=\"1\" class=\"dataframe\">\n",
       "  <thead>\n",
       "    <tr style=\"text-align: right;\">\n",
       "      <th></th>\n",
       "      <th>gene_ids</th>\n",
       "      <th>feature_types</th>\n",
       "    </tr>\n",
       "  </thead>\n",
       "  <tbody>\n",
       "    <tr>\n",
       "      <th>MIR1302-2HG</th>\n",
       "      <td>ENSG00000243485</td>\n",
       "      <td>Gene Expression</td>\n",
       "    </tr>\n",
       "    <tr>\n",
       "      <th>FAM138A</th>\n",
       "      <td>ENSG00000237613</td>\n",
       "      <td>Gene Expression</td>\n",
       "    </tr>\n",
       "    <tr>\n",
       "      <th>OR4F5</th>\n",
       "      <td>ENSG00000186092</td>\n",
       "      <td>Gene Expression</td>\n",
       "    </tr>\n",
       "    <tr>\n",
       "      <th>AL627309.1</th>\n",
       "      <td>ENSG00000238009</td>\n",
       "      <td>Gene Expression</td>\n",
       "    </tr>\n",
       "    <tr>\n",
       "      <th>AL627309.3</th>\n",
       "      <td>ENSG00000239945</td>\n",
       "      <td>Gene Expression</td>\n",
       "    </tr>\n",
       "  </tbody>\n",
       "</table>\n",
       "</div>"
      ],
      "text/plain": [
       "                    gene_ids    feature_types\n",
       "MIR1302-2HG  ENSG00000243485  Gene Expression\n",
       "FAM138A      ENSG00000237613  Gene Expression\n",
       "OR4F5        ENSG00000186092  Gene Expression\n",
       "AL627309.1   ENSG00000238009  Gene Expression\n",
       "AL627309.3   ENSG00000239945  Gene Expression"
      ]
     },
     "execution_count": 8,
     "metadata": {},
     "output_type": "execute_result"
    }
   ],
   "source": [
    "LVAD_orig.var.head()"
   ]
  },
  {
   "cell_type": "code",
   "execution_count": 9,
   "metadata": {},
   "outputs": [
    {
     "name": "stdout",
     "output_type": "stream",
     "text": [
      "<class 'pandas.core.frame.DataFrame'>\n",
      "Index: 36601 entries, MIR1302-2HG to AC007325.2\n",
      "Data columns (total 2 columns):\n",
      " #   Column         Non-Null Count  Dtype   \n",
      "---  ------         --------------  -----   \n",
      " 0   gene_ids       36601 non-null  object  \n",
      " 1   feature_types  36601 non-null  category\n",
      "dtypes: category(1), object(1)\n",
      "memory usage: 1.6+ MB\n"
     ]
    }
   ],
   "source": [
    "LVAD_orig.var.info()"
   ]
  },
  {
   "cell_type": "code",
   "execution_count": 10,
   "metadata": {},
   "outputs": [],
   "source": [
    "LVAD_orig.var = LVAD_orig.var.reset_index().set_index('gene_ids')"
   ]
  },
  {
   "cell_type": "raw",
   "metadata": {},
   "source": [
    "LVAD_orig.var['gene_name_IC'] = LVAD_orig.var_names.astype(str)\n",
    "LVAD_orig.var_names = LVAD_orig.var['id'].astype(str)"
   ]
  },
  {
   "cell_type": "code",
   "execution_count": 11,
   "metadata": {},
   "outputs": [
    {
     "data": {
      "text/plain": [
       "Index(['ENSG00000243485', 'ENSG00000237613', 'ENSG00000186092',\n",
       "       'ENSG00000238009', 'ENSG00000239945', 'ENSG00000239906',\n",
       "       'ENSG00000241860', 'ENSG00000241599', 'ENSG00000286448',\n",
       "       'ENSG00000236601',\n",
       "       ...\n",
       "       'ENSG00000274175', 'ENSG00000275869', 'ENSG00000273554',\n",
       "       'ENSG00000278782', 'ENSG00000277761', 'ENSG00000277836',\n",
       "       'ENSG00000278633', 'ENSG00000276017', 'ENSG00000278817',\n",
       "       'ENSG00000277196'],\n",
       "      dtype='object', name='gene_ids', length=36601)"
      ]
     },
     "execution_count": 11,
     "metadata": {},
     "output_type": "execute_result"
    }
   ],
   "source": [
    "LVAD_orig.var_names"
   ]
  },
  {
   "cell_type": "code",
   "execution_count": 12,
   "metadata": {},
   "outputs": [
    {
     "data": {
      "text/html": [
       "<div>\n",
       "<style scoped>\n",
       "    .dataframe tbody tr th:only-of-type {\n",
       "        vertical-align: middle;\n",
       "    }\n",
       "\n",
       "    .dataframe tbody tr th {\n",
       "        vertical-align: top;\n",
       "    }\n",
       "\n",
       "    .dataframe thead th {\n",
       "        text-align: right;\n",
       "    }\n",
       "</style>\n",
       "<table border=\"1\" class=\"dataframe\">\n",
       "  <thead>\n",
       "    <tr style=\"text-align: right;\">\n",
       "      <th></th>\n",
       "      <th>index</th>\n",
       "      <th>feature_types</th>\n",
       "    </tr>\n",
       "    <tr>\n",
       "      <th>gene_ids</th>\n",
       "      <th></th>\n",
       "      <th></th>\n",
       "    </tr>\n",
       "  </thead>\n",
       "  <tbody>\n",
       "    <tr>\n",
       "      <th>ENSG00000243485</th>\n",
       "      <td>MIR1302-2HG</td>\n",
       "      <td>Gene Expression</td>\n",
       "    </tr>\n",
       "    <tr>\n",
       "      <th>ENSG00000237613</th>\n",
       "      <td>FAM138A</td>\n",
       "      <td>Gene Expression</td>\n",
       "    </tr>\n",
       "    <tr>\n",
       "      <th>ENSG00000186092</th>\n",
       "      <td>OR4F5</td>\n",
       "      <td>Gene Expression</td>\n",
       "    </tr>\n",
       "    <tr>\n",
       "      <th>ENSG00000238009</th>\n",
       "      <td>AL627309.1</td>\n",
       "      <td>Gene Expression</td>\n",
       "    </tr>\n",
       "    <tr>\n",
       "      <th>ENSG00000239945</th>\n",
       "      <td>AL627309.3</td>\n",
       "      <td>Gene Expression</td>\n",
       "    </tr>\n",
       "    <tr>\n",
       "      <th>...</th>\n",
       "      <td>...</td>\n",
       "      <td>...</td>\n",
       "    </tr>\n",
       "    <tr>\n",
       "      <th>ENSG00000277836</th>\n",
       "      <td>AC141272.1</td>\n",
       "      <td>Gene Expression</td>\n",
       "    </tr>\n",
       "    <tr>\n",
       "      <th>ENSG00000278633</th>\n",
       "      <td>AC023491.2</td>\n",
       "      <td>Gene Expression</td>\n",
       "    </tr>\n",
       "    <tr>\n",
       "      <th>ENSG00000276017</th>\n",
       "      <td>AC007325.1</td>\n",
       "      <td>Gene Expression</td>\n",
       "    </tr>\n",
       "    <tr>\n",
       "      <th>ENSG00000278817</th>\n",
       "      <td>AC007325.4</td>\n",
       "      <td>Gene Expression</td>\n",
       "    </tr>\n",
       "    <tr>\n",
       "      <th>ENSG00000277196</th>\n",
       "      <td>AC007325.2</td>\n",
       "      <td>Gene Expression</td>\n",
       "    </tr>\n",
       "  </tbody>\n",
       "</table>\n",
       "<p>36601 rows × 2 columns</p>\n",
       "</div>"
      ],
      "text/plain": [
       "                       index    feature_types\n",
       "gene_ids                                     \n",
       "ENSG00000243485  MIR1302-2HG  Gene Expression\n",
       "ENSG00000237613      FAM138A  Gene Expression\n",
       "ENSG00000186092        OR4F5  Gene Expression\n",
       "ENSG00000238009   AL627309.1  Gene Expression\n",
       "ENSG00000239945   AL627309.3  Gene Expression\n",
       "...                      ...              ...\n",
       "ENSG00000277836   AC141272.1  Gene Expression\n",
       "ENSG00000278633   AC023491.2  Gene Expression\n",
       "ENSG00000276017   AC007325.1  Gene Expression\n",
       "ENSG00000278817   AC007325.4  Gene Expression\n",
       "ENSG00000277196   AC007325.2  Gene Expression\n",
       "\n",
       "[36601 rows x 2 columns]"
      ]
     },
     "execution_count": 12,
     "metadata": {},
     "output_type": "execute_result"
    }
   ],
   "source": [
    "LVAD_orig.var"
   ]
  },
  {
   "cell_type": "code",
   "execution_count": 13,
   "metadata": {},
   "outputs": [],
   "source": [
    "LVAD_orig.var.columns = ['gene_name_IC','feature_type']"
   ]
  },
  {
   "cell_type": "code",
   "execution_count": 14,
   "metadata": {},
   "outputs": [
    {
     "data": {
      "text/plain": [
       "ENSG00000243485    1\n",
       "ENSG00000125952    1\n",
       "ENSG00000070182    1\n",
       "ENSG00000258289    1\n",
       "ENSG00000176153    1\n",
       "                  ..\n",
       "ENSG00000223821    1\n",
       "ENSG00000135297    1\n",
       "ENSG00000164430    1\n",
       "ENSG00000080007    1\n",
       "ENSG00000277196    1\n",
       "Name: gene_ids, Length: 36601, dtype: int64"
      ]
     },
     "execution_count": 14,
     "metadata": {},
     "output_type": "execute_result"
    }
   ],
   "source": [
    "LVAD_orig.var.index.value_counts()"
   ]
  },
  {
   "cell_type": "markdown",
   "metadata": {},
   "source": [
    "### HCA"
   ]
  },
  {
   "cell_type": "code",
   "execution_count": 15,
   "metadata": {},
   "outputs": [],
   "source": [
    "HCA_orig = sc.read_h5ad('/home/mlee/RDS/projects/cardiac_single_cell_biology/live/HCA/hca_heart_global_ctl200723_freeze.h5ad')"
   ]
  },
  {
   "cell_type": "code",
   "execution_count": 17,
   "metadata": {},
   "outputs": [
    {
     "data": {
      "text/plain": [
       "Index(['NRP', 'age_group', 'cell_source', 'cell_type', 'donor', 'gender',\n",
       "       'n_counts', 'n_genes', 'percent_mito', 'percent_ribo', 'region',\n",
       "       'sample', 'scrublet_score', 'source', 'type', 'version', 'cell_states',\n",
       "       'Used'],\n",
       "      dtype='object')"
      ]
     },
     "execution_count": 17,
     "metadata": {},
     "output_type": "execute_result"
    }
   ],
   "source": [
    "HCA_orig.obs.columns"
   ]
  },
  {
   "cell_type": "code",
   "execution_count": 18,
   "metadata": {},
   "outputs": [],
   "source": [
    "HCA_orig.obs.columns = ['NRP', 'age_group', 'cell_source', 'HCA_cell_type', 'Patient', 'gender',\n",
    "       'n_counts', 'n_genes', 'percent_mito', 'percent_ribo', 'Region',\n",
    "       'Sample', 'scrublet_score', 'Source', 'type', 'version', 'HCA_cell_states',\n",
    "       'Used']"
   ]
  },
  {
   "cell_type": "code",
   "execution_count": 20,
   "metadata": {},
   "outputs": [
    {
     "data": {
      "text/plain": [
       "Index(['AX', 'LA', 'LV', 'RA', 'RV', 'SP'], dtype='object')"
      ]
     },
     "execution_count": 20,
     "metadata": {},
     "output_type": "execute_result"
    }
   ],
   "source": [
    "HCA_orig.obs.Region.cat.categories"
   ]
  },
  {
   "cell_type": "code",
   "execution_count": 21,
   "metadata": {},
   "outputs": [],
   "source": [
    "HCA_orig_AP = HCA_orig[HCA_orig.obs.Region.isin(['LV'])]"
   ]
  },
  {
   "cell_type": "code",
   "execution_count": 22,
   "metadata": {},
   "outputs": [
    {
     "data": {
      "text/plain": [
       "AAACCCAAGAGAATCT-1-H0015_LV           LV\n",
       "AAACCCAAGTCCCTAA-1-H0015_LV           LV\n",
       "AAACCCACAAGTTGGG-1-H0015_LV           LV\n",
       "AAACCCACACCGAATT-1-H0015_LV           LV\n",
       "AAACCCACATGGGTTT-1-H0015_LV           LV\n",
       "                                      ..\n",
       "TTTGATCTCATTCTTG-1-HCAHeart8102859    LV\n",
       "TTTGGTTAGGAGTACC-1-HCAHeart8102859    LV\n",
       "TTTGGTTAGGATCATA-1-HCAHeart8102859    LV\n",
       "TTTGGTTAGGCATGGT-1-HCAHeart8102859    LV\n",
       "TTTGGTTCACCGTACG-1-HCAHeart8102859    LV\n",
       "Name: Region, Length: 107261, dtype: category\n",
       "Categories (1, object): ['LV']"
      ]
     },
     "execution_count": 22,
     "metadata": {},
     "output_type": "execute_result"
    }
   ],
   "source": [
    "HCA_orig_AP.obs.Region"
   ]
  },
  {
   "cell_type": "code",
   "execution_count": 23,
   "metadata": {},
   "outputs": [],
   "source": [
    "HCA_orig_AP_nuclei = HCA_orig_AP[(HCA_orig_AP.obs.Source == 'Nuclei') & (HCA_orig_AP.obs.version == 'V3')]"
   ]
  },
  {
   "cell_type": "code",
   "execution_count": 24,
   "metadata": {},
   "outputs": [
    {
     "data": {
      "text/plain": [
       "View of AnnData object with n_obs × n_vars = 53559 × 33538\n",
       "    obs: 'NRP', 'age_group', 'cell_source', 'HCA_cell_type', 'Patient', 'gender', 'n_counts', 'n_genes', 'percent_mito', 'percent_ribo', 'Region', 'Sample', 'scrublet_score', 'Source', 'type', 'version', 'HCA_cell_states', 'Used'\n",
       "    var: 'gene_ids-Harvard-Nuclei', 'feature_types-Harvard-Nuclei', 'gene_ids-Sanger-Nuclei', 'feature_types-Sanger-Nuclei', 'gene_ids-Sanger-Cells', 'feature_types-Sanger-Cells', 'gene_ids-Sanger-CD45', 'feature_types-Sanger-CD45'\n",
       "    uns: 'cell_type_colors'\n",
       "    obsm: 'X_pca', 'X_umap'"
      ]
     },
     "execution_count": 24,
     "metadata": {},
     "output_type": "execute_result"
    }
   ],
   "source": [
    "HCA_orig_AP_nuclei"
   ]
  },
  {
   "cell_type": "code",
   "execution_count": 25,
   "metadata": {},
   "outputs": [
    {
     "name": "stderr",
     "output_type": "stream",
     "text": [
      "Trying to set attribute `.obs` of view, copying.\n"
     ]
    }
   ],
   "source": [
    "HCA_orig_AP_nuclei.obs['Group'] = 'control' \n",
    "HCA_orig_AP_nuclei.obs['Location'] = 'Control' "
   ]
  },
  {
   "cell_type": "code",
   "execution_count": 27,
   "metadata": {},
   "outputs": [
    {
     "data": {
      "text/plain": [
       "Index(['MIR1302-2HG', 'FAM138A', 'OR4F5', 'AL627309.1', 'AL627309.3',\n",
       "       'AL627309.2', 'AL627309.4', 'AL732372.1', 'OR4F29', 'AC114498.1',\n",
       "       ...\n",
       "       'AC007325.2', 'BX072566.1', 'AL354822.1', 'AC023491.2', 'AC004556.1',\n",
       "       'AC233755.2', 'AC233755.1', 'AC240274.1', 'AC213203.1', 'FAM231C'],\n",
       "      dtype='object', length=33538)"
      ]
     },
     "execution_count": 27,
     "metadata": {},
     "output_type": "execute_result"
    }
   ],
   "source": [
    "HCA_orig_AP_nuclei.var_names"
   ]
  },
  {
   "cell_type": "code",
   "execution_count": 28,
   "metadata": {},
   "outputs": [
    {
     "data": {
      "text/plain": [
       "Index(['gene_ids-Harvard-Nuclei', 'feature_types-Harvard-Nuclei',\n",
       "       'gene_ids-Sanger-Nuclei', 'feature_types-Sanger-Nuclei',\n",
       "       'gene_ids-Sanger-Cells', 'feature_types-Sanger-Cells',\n",
       "       'gene_ids-Sanger-CD45', 'feature_types-Sanger-CD45'],\n",
       "      dtype='object')"
      ]
     },
     "execution_count": 28,
     "metadata": {},
     "output_type": "execute_result"
    }
   ],
   "source": [
    "HCA_orig_AP_nuclei.var.columns"
   ]
  },
  {
   "cell_type": "code",
   "execution_count": 29,
   "metadata": {},
   "outputs": [
    {
     "data": {
      "text/html": [
       "<div>\n",
       "<style scoped>\n",
       "    .dataframe tbody tr th:only-of-type {\n",
       "        vertical-align: middle;\n",
       "    }\n",
       "\n",
       "    .dataframe tbody tr th {\n",
       "        vertical-align: top;\n",
       "    }\n",
       "\n",
       "    .dataframe thead th {\n",
       "        text-align: right;\n",
       "    }\n",
       "</style>\n",
       "<table border=\"1\" class=\"dataframe\">\n",
       "  <thead>\n",
       "    <tr style=\"text-align: right;\">\n",
       "      <th></th>\n",
       "      <th>gene_ids-Harvard-Nuclei</th>\n",
       "      <th>feature_types-Harvard-Nuclei</th>\n",
       "      <th>gene_ids-Sanger-Nuclei</th>\n",
       "      <th>feature_types-Sanger-Nuclei</th>\n",
       "      <th>gene_ids-Sanger-Cells</th>\n",
       "      <th>feature_types-Sanger-Cells</th>\n",
       "      <th>gene_ids-Sanger-CD45</th>\n",
       "      <th>feature_types-Sanger-CD45</th>\n",
       "    </tr>\n",
       "  </thead>\n",
       "  <tbody>\n",
       "    <tr>\n",
       "      <th>MIR1302-2HG</th>\n",
       "      <td>ENSG00000243485</td>\n",
       "      <td>Gene Expression</td>\n",
       "      <td>ENSG00000243485</td>\n",
       "      <td>0</td>\n",
       "      <td>ENSG00000243485</td>\n",
       "      <td>0</td>\n",
       "      <td>ENSG00000243485</td>\n",
       "      <td>0</td>\n",
       "    </tr>\n",
       "    <tr>\n",
       "      <th>FAM138A</th>\n",
       "      <td>ENSG00000237613</td>\n",
       "      <td>Gene Expression</td>\n",
       "      <td>ENSG00000237613</td>\n",
       "      <td>0</td>\n",
       "      <td>ENSG00000237613</td>\n",
       "      <td>0</td>\n",
       "      <td>ENSG00000237613</td>\n",
       "      <td>0</td>\n",
       "    </tr>\n",
       "    <tr>\n",
       "      <th>OR4F5</th>\n",
       "      <td>ENSG00000186092</td>\n",
       "      <td>Gene Expression</td>\n",
       "      <td>ENSG00000186092</td>\n",
       "      <td>0</td>\n",
       "      <td>ENSG00000186092</td>\n",
       "      <td>0</td>\n",
       "      <td>ENSG00000186092</td>\n",
       "      <td>0</td>\n",
       "    </tr>\n",
       "    <tr>\n",
       "      <th>AL627309.1</th>\n",
       "      <td>ENSG00000238009</td>\n",
       "      <td>Gene Expression</td>\n",
       "      <td>ENSG00000238009</td>\n",
       "      <td>0</td>\n",
       "      <td>ENSG00000238009</td>\n",
       "      <td>0</td>\n",
       "      <td>ENSG00000238009</td>\n",
       "      <td>0</td>\n",
       "    </tr>\n",
       "    <tr>\n",
       "      <th>AL627309.3</th>\n",
       "      <td>ENSG00000239945</td>\n",
       "      <td>Gene Expression</td>\n",
       "      <td>ENSG00000239945</td>\n",
       "      <td>0</td>\n",
       "      <td>ENSG00000239945</td>\n",
       "      <td>0</td>\n",
       "      <td>ENSG00000239945</td>\n",
       "      <td>0</td>\n",
       "    </tr>\n",
       "    <tr>\n",
       "      <th>...</th>\n",
       "      <td>...</td>\n",
       "      <td>...</td>\n",
       "      <td>...</td>\n",
       "      <td>...</td>\n",
       "      <td>...</td>\n",
       "      <td>...</td>\n",
       "      <td>...</td>\n",
       "      <td>...</td>\n",
       "    </tr>\n",
       "    <tr>\n",
       "      <th>AC233755.2</th>\n",
       "      <td>ENSG00000277856</td>\n",
       "      <td>Gene Expression</td>\n",
       "      <td>ENSG00000277856</td>\n",
       "      <td>0</td>\n",
       "      <td>ENSG00000277856</td>\n",
       "      <td>0</td>\n",
       "      <td>ENSG00000277856</td>\n",
       "      <td>0</td>\n",
       "    </tr>\n",
       "    <tr>\n",
       "      <th>AC233755.1</th>\n",
       "      <td>ENSG00000275063</td>\n",
       "      <td>Gene Expression</td>\n",
       "      <td>ENSG00000275063</td>\n",
       "      <td>0</td>\n",
       "      <td>ENSG00000275063</td>\n",
       "      <td>0</td>\n",
       "      <td>ENSG00000275063</td>\n",
       "      <td>0</td>\n",
       "    </tr>\n",
       "    <tr>\n",
       "      <th>AC240274.1</th>\n",
       "      <td>ENSG00000271254</td>\n",
       "      <td>Gene Expression</td>\n",
       "      <td>ENSG00000271254</td>\n",
       "      <td>0</td>\n",
       "      <td>ENSG00000271254</td>\n",
       "      <td>0</td>\n",
       "      <td>ENSG00000271254</td>\n",
       "      <td>0</td>\n",
       "    </tr>\n",
       "    <tr>\n",
       "      <th>AC213203.1</th>\n",
       "      <td>ENSG00000277475</td>\n",
       "      <td>Gene Expression</td>\n",
       "      <td>ENSG00000277475</td>\n",
       "      <td>0</td>\n",
       "      <td>ENSG00000277475</td>\n",
       "      <td>0</td>\n",
       "      <td>ENSG00000277475</td>\n",
       "      <td>0</td>\n",
       "    </tr>\n",
       "    <tr>\n",
       "      <th>FAM231C</th>\n",
       "      <td>ENSG00000268674</td>\n",
       "      <td>Gene Expression</td>\n",
       "      <td>ENSG00000268674</td>\n",
       "      <td>0</td>\n",
       "      <td>ENSG00000268674</td>\n",
       "      <td>0</td>\n",
       "      <td>ENSG00000268674</td>\n",
       "      <td>0</td>\n",
       "    </tr>\n",
       "  </tbody>\n",
       "</table>\n",
       "<p>33538 rows × 8 columns</p>\n",
       "</div>"
      ],
      "text/plain": [
       "            gene_ids-Harvard-Nuclei feature_types-Harvard-Nuclei  \\\n",
       "MIR1302-2HG         ENSG00000243485              Gene Expression   \n",
       "FAM138A             ENSG00000237613              Gene Expression   \n",
       "OR4F5               ENSG00000186092              Gene Expression   \n",
       "AL627309.1          ENSG00000238009              Gene Expression   \n",
       "AL627309.3          ENSG00000239945              Gene Expression   \n",
       "...                             ...                          ...   \n",
       "AC233755.2          ENSG00000277856              Gene Expression   \n",
       "AC233755.1          ENSG00000275063              Gene Expression   \n",
       "AC240274.1          ENSG00000271254              Gene Expression   \n",
       "AC213203.1          ENSG00000277475              Gene Expression   \n",
       "FAM231C             ENSG00000268674              Gene Expression   \n",
       "\n",
       "            gene_ids-Sanger-Nuclei  feature_types-Sanger-Nuclei  \\\n",
       "MIR1302-2HG        ENSG00000243485                            0   \n",
       "FAM138A            ENSG00000237613                            0   \n",
       "OR4F5              ENSG00000186092                            0   \n",
       "AL627309.1         ENSG00000238009                            0   \n",
       "AL627309.3         ENSG00000239945                            0   \n",
       "...                            ...                          ...   \n",
       "AC233755.2         ENSG00000277856                            0   \n",
       "AC233755.1         ENSG00000275063                            0   \n",
       "AC240274.1         ENSG00000271254                            0   \n",
       "AC213203.1         ENSG00000277475                            0   \n",
       "FAM231C            ENSG00000268674                            0   \n",
       "\n",
       "            gene_ids-Sanger-Cells  feature_types-Sanger-Cells  \\\n",
       "MIR1302-2HG       ENSG00000243485                           0   \n",
       "FAM138A           ENSG00000237613                           0   \n",
       "OR4F5             ENSG00000186092                           0   \n",
       "AL627309.1        ENSG00000238009                           0   \n",
       "AL627309.3        ENSG00000239945                           0   \n",
       "...                           ...                         ...   \n",
       "AC233755.2        ENSG00000277856                           0   \n",
       "AC233755.1        ENSG00000275063                           0   \n",
       "AC240274.1        ENSG00000271254                           0   \n",
       "AC213203.1        ENSG00000277475                           0   \n",
       "FAM231C           ENSG00000268674                           0   \n",
       "\n",
       "            gene_ids-Sanger-CD45  feature_types-Sanger-CD45  \n",
       "MIR1302-2HG      ENSG00000243485                          0  \n",
       "FAM138A          ENSG00000237613                          0  \n",
       "OR4F5            ENSG00000186092                          0  \n",
       "AL627309.1       ENSG00000238009                          0  \n",
       "AL627309.3       ENSG00000239945                          0  \n",
       "...                          ...                        ...  \n",
       "AC233755.2       ENSG00000277856                          0  \n",
       "AC233755.1       ENSG00000275063                          0  \n",
       "AC240274.1       ENSG00000271254                          0  \n",
       "AC213203.1       ENSG00000277475                          0  \n",
       "FAM231C          ENSG00000268674                          0  \n",
       "\n",
       "[33538 rows x 8 columns]"
      ]
     },
     "execution_count": 29,
     "metadata": {},
     "output_type": "execute_result"
    }
   ],
   "source": [
    "HCA_orig_AP_nuclei.var"
   ]
  },
  {
   "cell_type": "code",
   "execution_count": 30,
   "metadata": {},
   "outputs": [
    {
     "name": "stdout",
     "output_type": "stream",
     "text": [
      "<class 'pandas.core.frame.DataFrame'>\n",
      "Index: 33538 entries, MIR1302-2HG to FAM231C\n",
      "Data columns (total 8 columns):\n",
      " #   Column                        Non-Null Count  Dtype   \n",
      "---  ------                        --------------  -----   \n",
      " 0   gene_ids-Harvard-Nuclei       33538 non-null  object  \n",
      " 1   feature_types-Harvard-Nuclei  33538 non-null  category\n",
      " 2   gene_ids-Sanger-Nuclei        33538 non-null  object  \n",
      " 3   feature_types-Sanger-Nuclei   33538 non-null  int8    \n",
      " 4   gene_ids-Sanger-Cells         33538 non-null  object  \n",
      " 5   feature_types-Sanger-Cells    33538 non-null  int8    \n",
      " 6   gene_ids-Sanger-CD45          33538 non-null  object  \n",
      " 7   feature_types-Sanger-CD45     33538 non-null  int8    \n",
      "dtypes: category(1), int8(3), object(4)\n",
      "memory usage: 2.4+ MB\n"
     ]
    }
   ],
   "source": [
    "HCA_orig_AP_nuclei.var.info()"
   ]
  },
  {
   "cell_type": "code",
   "execution_count": 31,
   "metadata": {},
   "outputs": [
    {
     "data": {
      "text/html": [
       "<div>\n",
       "<style scoped>\n",
       "    .dataframe tbody tr th:only-of-type {\n",
       "        vertical-align: middle;\n",
       "    }\n",
       "\n",
       "    .dataframe tbody tr th {\n",
       "        vertical-align: top;\n",
       "    }\n",
       "\n",
       "    .dataframe thead th {\n",
       "        text-align: right;\n",
       "    }\n",
       "</style>\n",
       "<table border=\"1\" class=\"dataframe\">\n",
       "  <thead>\n",
       "    <tr style=\"text-align: right;\">\n",
       "      <th></th>\n",
       "      <th>gene_ids-Harvard-Nuclei</th>\n",
       "      <th>feature_types-Harvard-Nuclei</th>\n",
       "    </tr>\n",
       "  </thead>\n",
       "  <tbody>\n",
       "    <tr>\n",
       "      <th>MIR1302-2HG</th>\n",
       "      <td>ENSG00000243485</td>\n",
       "      <td>Gene Expression</td>\n",
       "    </tr>\n",
       "    <tr>\n",
       "      <th>FAM138A</th>\n",
       "      <td>ENSG00000237613</td>\n",
       "      <td>Gene Expression</td>\n",
       "    </tr>\n",
       "    <tr>\n",
       "      <th>OR4F5</th>\n",
       "      <td>ENSG00000186092</td>\n",
       "      <td>Gene Expression</td>\n",
       "    </tr>\n",
       "    <tr>\n",
       "      <th>AL627309.1</th>\n",
       "      <td>ENSG00000238009</td>\n",
       "      <td>Gene Expression</td>\n",
       "    </tr>\n",
       "    <tr>\n",
       "      <th>AL627309.3</th>\n",
       "      <td>ENSG00000239945</td>\n",
       "      <td>Gene Expression</td>\n",
       "    </tr>\n",
       "    <tr>\n",
       "      <th>...</th>\n",
       "      <td>...</td>\n",
       "      <td>...</td>\n",
       "    </tr>\n",
       "    <tr>\n",
       "      <th>AC233755.2</th>\n",
       "      <td>ENSG00000277856</td>\n",
       "      <td>Gene Expression</td>\n",
       "    </tr>\n",
       "    <tr>\n",
       "      <th>AC233755.1</th>\n",
       "      <td>ENSG00000275063</td>\n",
       "      <td>Gene Expression</td>\n",
       "    </tr>\n",
       "    <tr>\n",
       "      <th>AC240274.1</th>\n",
       "      <td>ENSG00000271254</td>\n",
       "      <td>Gene Expression</td>\n",
       "    </tr>\n",
       "    <tr>\n",
       "      <th>AC213203.1</th>\n",
       "      <td>ENSG00000277475</td>\n",
       "      <td>Gene Expression</td>\n",
       "    </tr>\n",
       "    <tr>\n",
       "      <th>FAM231C</th>\n",
       "      <td>ENSG00000268674</td>\n",
       "      <td>Gene Expression</td>\n",
       "    </tr>\n",
       "  </tbody>\n",
       "</table>\n",
       "<p>33538 rows × 2 columns</p>\n",
       "</div>"
      ],
      "text/plain": [
       "            gene_ids-Harvard-Nuclei feature_types-Harvard-Nuclei\n",
       "MIR1302-2HG         ENSG00000243485              Gene Expression\n",
       "FAM138A             ENSG00000237613              Gene Expression\n",
       "OR4F5               ENSG00000186092              Gene Expression\n",
       "AL627309.1          ENSG00000238009              Gene Expression\n",
       "AL627309.3          ENSG00000239945              Gene Expression\n",
       "...                             ...                          ...\n",
       "AC233755.2          ENSG00000277856              Gene Expression\n",
       "AC233755.1          ENSG00000275063              Gene Expression\n",
       "AC240274.1          ENSG00000271254              Gene Expression\n",
       "AC213203.1          ENSG00000277475              Gene Expression\n",
       "FAM231C             ENSG00000268674              Gene Expression\n",
       "\n",
       "[33538 rows x 2 columns]"
      ]
     },
     "execution_count": 31,
     "metadata": {},
     "output_type": "execute_result"
    }
   ],
   "source": [
    "HCA_orig_AP_nuclei.var.iloc[:,0:2]"
   ]
  },
  {
   "cell_type": "code",
   "execution_count": 32,
   "metadata": {},
   "outputs": [],
   "source": [
    "HCA_orig_AP_nuclei.var = HCA_orig_AP_nuclei.var.iloc[:,0:2]"
   ]
  },
  {
   "cell_type": "code",
   "execution_count": 33,
   "metadata": {},
   "outputs": [],
   "source": [
    "HCA_orig_AP_nuclei.var.columns = ['gene_ids', 'feature_types']"
   ]
  },
  {
   "cell_type": "code",
   "execution_count": 34,
   "metadata": {},
   "outputs": [],
   "source": [
    "HCA_orig_AP_nuclei.var = HCA_orig_AP_nuclei.var.reset_index().set_index('gene_ids')"
   ]
  },
  {
   "cell_type": "code",
   "execution_count": 35,
   "metadata": {},
   "outputs": [],
   "source": [
    "HCA_orig_AP_nuclei.var.columns = ['gene_name_HCA', 'feature_types']"
   ]
  },
  {
   "cell_type": "code",
   "execution_count": 36,
   "metadata": {},
   "outputs": [
    {
     "data": {
      "text/html": [
       "<div>\n",
       "<style scoped>\n",
       "    .dataframe tbody tr th:only-of-type {\n",
       "        vertical-align: middle;\n",
       "    }\n",
       "\n",
       "    .dataframe tbody tr th {\n",
       "        vertical-align: top;\n",
       "    }\n",
       "\n",
       "    .dataframe thead th {\n",
       "        text-align: right;\n",
       "    }\n",
       "</style>\n",
       "<table border=\"1\" class=\"dataframe\">\n",
       "  <thead>\n",
       "    <tr style=\"text-align: right;\">\n",
       "      <th></th>\n",
       "      <th>gene_name_HCA</th>\n",
       "      <th>feature_types</th>\n",
       "    </tr>\n",
       "    <tr>\n",
       "      <th>gene_ids</th>\n",
       "      <th></th>\n",
       "      <th></th>\n",
       "    </tr>\n",
       "  </thead>\n",
       "  <tbody>\n",
       "    <tr>\n",
       "      <th>ENSG00000243485</th>\n",
       "      <td>MIR1302-2HG</td>\n",
       "      <td>Gene Expression</td>\n",
       "    </tr>\n",
       "    <tr>\n",
       "      <th>ENSG00000237613</th>\n",
       "      <td>FAM138A</td>\n",
       "      <td>Gene Expression</td>\n",
       "    </tr>\n",
       "    <tr>\n",
       "      <th>ENSG00000186092</th>\n",
       "      <td>OR4F5</td>\n",
       "      <td>Gene Expression</td>\n",
       "    </tr>\n",
       "    <tr>\n",
       "      <th>ENSG00000238009</th>\n",
       "      <td>AL627309.1</td>\n",
       "      <td>Gene Expression</td>\n",
       "    </tr>\n",
       "    <tr>\n",
       "      <th>ENSG00000239945</th>\n",
       "      <td>AL627309.3</td>\n",
       "      <td>Gene Expression</td>\n",
       "    </tr>\n",
       "    <tr>\n",
       "      <th>...</th>\n",
       "      <td>...</td>\n",
       "      <td>...</td>\n",
       "    </tr>\n",
       "    <tr>\n",
       "      <th>ENSG00000277856</th>\n",
       "      <td>AC233755.2</td>\n",
       "      <td>Gene Expression</td>\n",
       "    </tr>\n",
       "    <tr>\n",
       "      <th>ENSG00000275063</th>\n",
       "      <td>AC233755.1</td>\n",
       "      <td>Gene Expression</td>\n",
       "    </tr>\n",
       "    <tr>\n",
       "      <th>ENSG00000271254</th>\n",
       "      <td>AC240274.1</td>\n",
       "      <td>Gene Expression</td>\n",
       "    </tr>\n",
       "    <tr>\n",
       "      <th>ENSG00000277475</th>\n",
       "      <td>AC213203.1</td>\n",
       "      <td>Gene Expression</td>\n",
       "    </tr>\n",
       "    <tr>\n",
       "      <th>ENSG00000268674</th>\n",
       "      <td>FAM231C</td>\n",
       "      <td>Gene Expression</td>\n",
       "    </tr>\n",
       "  </tbody>\n",
       "</table>\n",
       "<p>33538 rows × 2 columns</p>\n",
       "</div>"
      ],
      "text/plain": [
       "                gene_name_HCA    feature_types\n",
       "gene_ids                                      \n",
       "ENSG00000243485   MIR1302-2HG  Gene Expression\n",
       "ENSG00000237613       FAM138A  Gene Expression\n",
       "ENSG00000186092         OR4F5  Gene Expression\n",
       "ENSG00000238009    AL627309.1  Gene Expression\n",
       "ENSG00000239945    AL627309.3  Gene Expression\n",
       "...                       ...              ...\n",
       "ENSG00000277856    AC233755.2  Gene Expression\n",
       "ENSG00000275063    AC233755.1  Gene Expression\n",
       "ENSG00000271254    AC240274.1  Gene Expression\n",
       "ENSG00000277475    AC213203.1  Gene Expression\n",
       "ENSG00000268674       FAM231C  Gene Expression\n",
       "\n",
       "[33538 rows x 2 columns]"
      ]
     },
     "execution_count": 36,
     "metadata": {},
     "output_type": "execute_result"
    }
   ],
   "source": [
    "HCA_orig_AP_nuclei.var "
   ]
  },
  {
   "cell_type": "code",
   "execution_count": 37,
   "metadata": {},
   "outputs": [
    {
     "data": {
      "text/html": [
       "<div>\n",
       "<style scoped>\n",
       "    .dataframe tbody tr th:only-of-type {\n",
       "        vertical-align: middle;\n",
       "    }\n",
       "\n",
       "    .dataframe tbody tr th {\n",
       "        vertical-align: top;\n",
       "    }\n",
       "\n",
       "    .dataframe thead th {\n",
       "        text-align: right;\n",
       "    }\n",
       "</style>\n",
       "<table border=\"1\" class=\"dataframe\">\n",
       "  <thead>\n",
       "    <tr style=\"text-align: right;\">\n",
       "      <th></th>\n",
       "      <th>gene_name_HCA</th>\n",
       "      <th>feature_types</th>\n",
       "    </tr>\n",
       "    <tr>\n",
       "      <th>gene_ids</th>\n",
       "      <th></th>\n",
       "      <th></th>\n",
       "    </tr>\n",
       "  </thead>\n",
       "  <tbody>\n",
       "    <tr>\n",
       "      <th>ENSG00000251503</th>\n",
       "      <td>CENPS-CORT</td>\n",
       "      <td>Gene Expression</td>\n",
       "    </tr>\n",
       "    <tr>\n",
       "      <th>ENSG00000277726</th>\n",
       "      <td>AL109811.4</td>\n",
       "      <td>Gene Expression</td>\n",
       "    </tr>\n",
       "    <tr>\n",
       "      <th>ENSG00000242349</th>\n",
       "      <td>NPPA-AS1</td>\n",
       "      <td>Gene Expression</td>\n",
       "    </tr>\n",
       "    <tr>\n",
       "      <th>ENSG00000255275</th>\n",
       "      <td>AL080251.1</td>\n",
       "      <td>Gene Expression</td>\n",
       "    </tr>\n",
       "    <tr>\n",
       "      <th>ENSG00000270136</th>\n",
       "      <td>MINOS1-NBL1</td>\n",
       "      <td>Gene Expression</td>\n",
       "    </tr>\n",
       "    <tr>\n",
       "      <th>...</th>\n",
       "      <td>...</td>\n",
       "      <td>...</td>\n",
       "    </tr>\n",
       "    <tr>\n",
       "      <th>ENSG00000235609</th>\n",
       "      <td>AF127577.4</td>\n",
       "      <td>Gene Expression</td>\n",
       "    </tr>\n",
       "    <tr>\n",
       "      <th>ENSG00000265590</th>\n",
       "      <td>AP000275.2</td>\n",
       "      <td>Gene Expression</td>\n",
       "    </tr>\n",
       "    <tr>\n",
       "      <th>ENSG00000249624</th>\n",
       "      <td>AP000295.1</td>\n",
       "      <td>Gene Expression</td>\n",
       "    </tr>\n",
       "    <tr>\n",
       "      <th>ENSG00000249209</th>\n",
       "      <td>AP000311.1</td>\n",
       "      <td>Gene Expression</td>\n",
       "    </tr>\n",
       "    <tr>\n",
       "      <th>ENSG00000237721</th>\n",
       "      <td>AF064858.3</td>\n",
       "      <td>Gene Expression</td>\n",
       "    </tr>\n",
       "  </tbody>\n",
       "</table>\n",
       "<p>806 rows × 2 columns</p>\n",
       "</div>"
      ],
      "text/plain": [
       "                gene_name_HCA    feature_types\n",
       "gene_ids                                      \n",
       "ENSG00000251503    CENPS-CORT  Gene Expression\n",
       "ENSG00000277726    AL109811.4  Gene Expression\n",
       "ENSG00000242349      NPPA-AS1  Gene Expression\n",
       "ENSG00000255275    AL080251.1  Gene Expression\n",
       "ENSG00000270136   MINOS1-NBL1  Gene Expression\n",
       "...                       ...              ...\n",
       "ENSG00000235609    AF127577.4  Gene Expression\n",
       "ENSG00000265590    AP000275.2  Gene Expression\n",
       "ENSG00000249624    AP000295.1  Gene Expression\n",
       "ENSG00000249209    AP000311.1  Gene Expression\n",
       "ENSG00000237721    AF064858.3  Gene Expression\n",
       "\n",
       "[806 rows x 2 columns]"
      ]
     },
     "execution_count": 37,
     "metadata": {},
     "output_type": "execute_result"
    }
   ],
   "source": [
    "temp1 = ~HCA_orig_AP_nuclei.var_names.isin(LVAD_orig.var_names)\n",
    "temp3 = HCA_orig_AP_nuclei.var[temp1]\n",
    "temp3.shape\n",
    "temp3"
   ]
  },
  {
   "cell_type": "code",
   "execution_count": 38,
   "metadata": {},
   "outputs": [
    {
     "data": {
      "text/plain": [
       "(3869, 2)"
      ]
     },
     "execution_count": 38,
     "metadata": {},
     "output_type": "execute_result"
    }
   ],
   "source": [
    "temp1 = ~LVAD_orig.var_names.isin(HCA_orig_AP_nuclei.var_names)\n",
    "temp3 = LVAD_orig.var[temp1]\n",
    "temp3.shape"
   ]
  },
  {
   "cell_type": "code",
   "execution_count": 39,
   "metadata": {},
   "outputs": [
    {
     "data": {
      "text/html": [
       "<div>\n",
       "<style scoped>\n",
       "    .dataframe tbody tr th:only-of-type {\n",
       "        vertical-align: middle;\n",
       "    }\n",
       "\n",
       "    .dataframe tbody tr th {\n",
       "        vertical-align: top;\n",
       "    }\n",
       "\n",
       "    .dataframe thead th {\n",
       "        text-align: right;\n",
       "    }\n",
       "</style>\n",
       "<table border=\"1\" class=\"dataframe\">\n",
       "  <thead>\n",
       "    <tr style=\"text-align: right;\">\n",
       "      <th></th>\n",
       "      <th>gene_name_IC</th>\n",
       "      <th>feature_type</th>\n",
       "    </tr>\n",
       "    <tr>\n",
       "      <th>gene_ids</th>\n",
       "      <th></th>\n",
       "      <th></th>\n",
       "    </tr>\n",
       "  </thead>\n",
       "  <tbody>\n",
       "    <tr>\n",
       "      <th>ENSG00000241860</th>\n",
       "      <td>AL627309.5</td>\n",
       "      <td>Gene Expression</td>\n",
       "    </tr>\n",
       "    <tr>\n",
       "      <th>ENSG00000286448</th>\n",
       "      <td>AP006222.2</td>\n",
       "      <td>Gene Expression</td>\n",
       "    </tr>\n",
       "    <tr>\n",
       "      <th>ENSG00000228794</th>\n",
       "      <td>LINC01128</td>\n",
       "      <td>Gene Expression</td>\n",
       "    </tr>\n",
       "    <tr>\n",
       "      <th>ENSG00000242590</th>\n",
       "      <td>AL645608.5</td>\n",
       "      <td>Gene Expression</td>\n",
       "    </tr>\n",
       "    <tr>\n",
       "      <th>ENSG00000285812</th>\n",
       "      <td>AL390719.3</td>\n",
       "      <td>Gene Expression</td>\n",
       "    </tr>\n",
       "    <tr>\n",
       "      <th>...</th>\n",
       "      <td>...</td>\n",
       "      <td>...</td>\n",
       "    </tr>\n",
       "    <tr>\n",
       "      <th>ENSG00000288049</th>\n",
       "      <td>AC010889.2</td>\n",
       "      <td>Gene Expression</td>\n",
       "    </tr>\n",
       "    <tr>\n",
       "      <th>ENSG00000286247</th>\n",
       "      <td>AC009494.2</td>\n",
       "      <td>Gene Expression</td>\n",
       "    </tr>\n",
       "    <tr>\n",
       "      <th>ENSG00000288057</th>\n",
       "      <td>AC010086.3</td>\n",
       "      <td>Gene Expression</td>\n",
       "    </tr>\n",
       "    <tr>\n",
       "      <th>ENSG00000286187</th>\n",
       "      <td>AC024236.1</td>\n",
       "      <td>Gene Expression</td>\n",
       "    </tr>\n",
       "    <tr>\n",
       "      <th>ENSG00000169763</th>\n",
       "      <td>PRYP3</td>\n",
       "      <td>Gene Expression</td>\n",
       "    </tr>\n",
       "  </tbody>\n",
       "</table>\n",
       "<p>3869 rows × 2 columns</p>\n",
       "</div>"
      ],
      "text/plain": [
       "                gene_name_IC     feature_type\n",
       "gene_ids                                     \n",
       "ENSG00000241860   AL627309.5  Gene Expression\n",
       "ENSG00000286448   AP006222.2  Gene Expression\n",
       "ENSG00000228794    LINC01128  Gene Expression\n",
       "ENSG00000242590   AL645608.5  Gene Expression\n",
       "ENSG00000285812   AL390719.3  Gene Expression\n",
       "...                      ...              ...\n",
       "ENSG00000288049   AC010889.2  Gene Expression\n",
       "ENSG00000286247   AC009494.2  Gene Expression\n",
       "ENSG00000288057   AC010086.3  Gene Expression\n",
       "ENSG00000286187   AC024236.1  Gene Expression\n",
       "ENSG00000169763        PRYP3  Gene Expression\n",
       "\n",
       "[3869 rows x 2 columns]"
      ]
     },
     "execution_count": 39,
     "metadata": {},
     "output_type": "execute_result"
    }
   ],
   "source": [
    "temp3"
   ]
  },
  {
   "cell_type": "raw",
   "metadata": {},
   "source": [
    "HCA_orig_AP_nuclei.var_names_make_unique()"
   ]
  },
  {
   "cell_type": "raw",
   "metadata": {},
   "source": [
    "LVAD_orig.var_names_make_unique()"
   ]
  },
  {
   "cell_type": "markdown",
   "metadata": {},
   "source": [
    "### Merge LVAD and HCA"
   ]
  },
  {
   "cell_type": "code",
   "execution_count": 40,
   "metadata": {},
   "outputs": [],
   "source": [
    "adata_orig = anndata.AnnData.concatenate(LVAD_orig, HCA_orig_AP_nuclei, join = 'inner')"
   ]
  },
  {
   "cell_type": "code",
   "execution_count": 41,
   "metadata": {},
   "outputs": [
    {
     "data": {
      "text/plain": [
       "Index(['gene_name_IC-0', 'feature_type-0', 'gene_name_HCA-1',\n",
       "       'feature_types-1'],\n",
       "      dtype='object')"
      ]
     },
     "execution_count": 41,
     "metadata": {},
     "output_type": "execute_result"
    }
   ],
   "source": [
    "adata_orig.var.columns"
   ]
  },
  {
   "cell_type": "code",
   "execution_count": 42,
   "metadata": {},
   "outputs": [
    {
     "data": {
      "text/html": [
       "<div>\n",
       "<style scoped>\n",
       "    .dataframe tbody tr th:only-of-type {\n",
       "        vertical-align: middle;\n",
       "    }\n",
       "\n",
       "    .dataframe tbody tr th {\n",
       "        vertical-align: top;\n",
       "    }\n",
       "\n",
       "    .dataframe thead th {\n",
       "        text-align: right;\n",
       "    }\n",
       "</style>\n",
       "<table border=\"1\" class=\"dataframe\">\n",
       "  <thead>\n",
       "    <tr style=\"text-align: right;\">\n",
       "      <th></th>\n",
       "      <th>gene_name_IC</th>\n",
       "      <th>feature_type-0</th>\n",
       "      <th>gene_name_HCA</th>\n",
       "      <th>feature_types-1</th>\n",
       "    </tr>\n",
       "    <tr>\n",
       "      <th>gene_ids</th>\n",
       "      <th></th>\n",
       "      <th></th>\n",
       "      <th></th>\n",
       "      <th></th>\n",
       "    </tr>\n",
       "  </thead>\n",
       "  <tbody>\n",
       "    <tr>\n",
       "      <th>ENSG00000243485</th>\n",
       "      <td>MIR1302-2HG</td>\n",
       "      <td>Gene Expression</td>\n",
       "      <td>MIR1302-2HG</td>\n",
       "      <td>Gene Expression</td>\n",
       "    </tr>\n",
       "    <tr>\n",
       "      <th>ENSG00000237613</th>\n",
       "      <td>FAM138A</td>\n",
       "      <td>Gene Expression</td>\n",
       "      <td>FAM138A</td>\n",
       "      <td>Gene Expression</td>\n",
       "    </tr>\n",
       "    <tr>\n",
       "      <th>ENSG00000186092</th>\n",
       "      <td>OR4F5</td>\n",
       "      <td>Gene Expression</td>\n",
       "      <td>OR4F5</td>\n",
       "      <td>Gene Expression</td>\n",
       "    </tr>\n",
       "    <tr>\n",
       "      <th>ENSG00000238009</th>\n",
       "      <td>AL627309.1</td>\n",
       "      <td>Gene Expression</td>\n",
       "      <td>AL627309.1</td>\n",
       "      <td>Gene Expression</td>\n",
       "    </tr>\n",
       "    <tr>\n",
       "      <th>ENSG00000239945</th>\n",
       "      <td>AL627309.3</td>\n",
       "      <td>Gene Expression</td>\n",
       "      <td>AL627309.3</td>\n",
       "      <td>Gene Expression</td>\n",
       "    </tr>\n",
       "    <tr>\n",
       "      <th>...</th>\n",
       "      <td>...</td>\n",
       "      <td>...</td>\n",
       "      <td>...</td>\n",
       "      <td>...</td>\n",
       "    </tr>\n",
       "    <tr>\n",
       "      <th>ENSG00000277836</th>\n",
       "      <td>AC141272.1</td>\n",
       "      <td>Gene Expression</td>\n",
       "      <td>AC141272.1</td>\n",
       "      <td>Gene Expression</td>\n",
       "    </tr>\n",
       "    <tr>\n",
       "      <th>ENSG00000278633</th>\n",
       "      <td>AC023491.2</td>\n",
       "      <td>Gene Expression</td>\n",
       "      <td>AC023491.2</td>\n",
       "      <td>Gene Expression</td>\n",
       "    </tr>\n",
       "    <tr>\n",
       "      <th>ENSG00000276017</th>\n",
       "      <td>AC007325.1</td>\n",
       "      <td>Gene Expression</td>\n",
       "      <td>AC007325.1</td>\n",
       "      <td>Gene Expression</td>\n",
       "    </tr>\n",
       "    <tr>\n",
       "      <th>ENSG00000278817</th>\n",
       "      <td>AC007325.4</td>\n",
       "      <td>Gene Expression</td>\n",
       "      <td>AC007325.4</td>\n",
       "      <td>Gene Expression</td>\n",
       "    </tr>\n",
       "    <tr>\n",
       "      <th>ENSG00000277196</th>\n",
       "      <td>AC007325.2</td>\n",
       "      <td>Gene Expression</td>\n",
       "      <td>AC007325.2</td>\n",
       "      <td>Gene Expression</td>\n",
       "    </tr>\n",
       "  </tbody>\n",
       "</table>\n",
       "<p>32732 rows × 4 columns</p>\n",
       "</div>"
      ],
      "text/plain": [
       "                gene_name_IC   feature_type-0 gene_name_HCA  feature_types-1\n",
       "gene_ids                                                                    \n",
       "ENSG00000243485  MIR1302-2HG  Gene Expression   MIR1302-2HG  Gene Expression\n",
       "ENSG00000237613      FAM138A  Gene Expression       FAM138A  Gene Expression\n",
       "ENSG00000186092        OR4F5  Gene Expression         OR4F5  Gene Expression\n",
       "ENSG00000238009   AL627309.1  Gene Expression    AL627309.1  Gene Expression\n",
       "ENSG00000239945   AL627309.3  Gene Expression    AL627309.3  Gene Expression\n",
       "...                      ...              ...           ...              ...\n",
       "ENSG00000277836   AC141272.1  Gene Expression    AC141272.1  Gene Expression\n",
       "ENSG00000278633   AC023491.2  Gene Expression    AC023491.2  Gene Expression\n",
       "ENSG00000276017   AC007325.1  Gene Expression    AC007325.1  Gene Expression\n",
       "ENSG00000278817   AC007325.4  Gene Expression    AC007325.4  Gene Expression\n",
       "ENSG00000277196   AC007325.2  Gene Expression    AC007325.2  Gene Expression\n",
       "\n",
       "[32732 rows x 4 columns]"
      ]
     },
     "execution_count": 42,
     "metadata": {},
     "output_type": "execute_result"
    }
   ],
   "source": [
    "adata_orig.var.columns = ['gene_name_IC', 'feature_type-0', 'gene_name_HCA',\n",
    "       'feature_types-1']\n",
    "adata_orig.var"
   ]
  },
  {
   "cell_type": "code",
   "execution_count": 43,
   "metadata": {},
   "outputs": [
    {
     "data": {
      "text/html": [
       "<div>\n",
       "<style scoped>\n",
       "    .dataframe tbody tr th:only-of-type {\n",
       "        vertical-align: middle;\n",
       "    }\n",
       "\n",
       "    .dataframe tbody tr th {\n",
       "        vertical-align: top;\n",
       "    }\n",
       "\n",
       "    .dataframe thead th {\n",
       "        text-align: right;\n",
       "    }\n",
       "</style>\n",
       "<table border=\"1\" class=\"dataframe\">\n",
       "  <thead>\n",
       "    <tr style=\"text-align: right;\">\n",
       "      <th></th>\n",
       "      <th>gene_name_IC</th>\n",
       "      <th>feature_type-0</th>\n",
       "      <th>gene_name_HCA</th>\n",
       "      <th>feature_types-1</th>\n",
       "    </tr>\n",
       "    <tr>\n",
       "      <th>gene_ids</th>\n",
       "      <th></th>\n",
       "      <th></th>\n",
       "      <th></th>\n",
       "      <th></th>\n",
       "    </tr>\n",
       "  </thead>\n",
       "  <tbody>\n",
       "  </tbody>\n",
       "</table>\n",
       "</div>"
      ],
      "text/plain": [
       "Empty DataFrame\n",
       "Columns: [gene_name_IC, feature_type-0, gene_name_HCA, feature_types-1]\n",
       "Index: []"
      ]
     },
     "execution_count": 43,
     "metadata": {},
     "output_type": "execute_result"
    }
   ],
   "source": [
    "adata_orig.var[adata_orig.var.gene_name_IC.isna()]"
   ]
  },
  {
   "cell_type": "code",
   "execution_count": 44,
   "metadata": {},
   "outputs": [],
   "source": [
    "adata_orig.var = adata_orig.var.reset_index()"
   ]
  },
  {
   "cell_type": "code",
   "execution_count": 45,
   "metadata": {},
   "outputs": [
    {
     "data": {
      "text/html": [
       "<div>\n",
       "<style scoped>\n",
       "    .dataframe tbody tr th:only-of-type {\n",
       "        vertical-align: middle;\n",
       "    }\n",
       "\n",
       "    .dataframe tbody tr th {\n",
       "        vertical-align: top;\n",
       "    }\n",
       "\n",
       "    .dataframe thead th {\n",
       "        text-align: right;\n",
       "    }\n",
       "</style>\n",
       "<table border=\"1\" class=\"dataframe\">\n",
       "  <thead>\n",
       "    <tr style=\"text-align: right;\">\n",
       "      <th></th>\n",
       "      <th>gene_ids</th>\n",
       "      <th>gene_name_IC</th>\n",
       "      <th>feature_type-0</th>\n",
       "      <th>gene_name_HCA</th>\n",
       "      <th>feature_types-1</th>\n",
       "      <th>gene_name</th>\n",
       "    </tr>\n",
       "  </thead>\n",
       "  <tbody>\n",
       "  </tbody>\n",
       "</table>\n",
       "</div>"
      ],
      "text/plain": [
       "Empty DataFrame\n",
       "Columns: [gene_ids, gene_name_IC, feature_type-0, gene_name_HCA, feature_types-1, gene_name]\n",
       "Index: []"
      ]
     },
     "execution_count": 45,
     "metadata": {},
     "output_type": "execute_result"
    }
   ],
   "source": [
    "adata_orig.var['gene_name'] = adata_orig.var['gene_name_IC'].fillna(adata_orig.var['gene_ids'])\n",
    "adata_orig.var[adata_orig.var.gene_name.isna()]"
   ]
  },
  {
   "cell_type": "code",
   "execution_count": 46,
   "metadata": {},
   "outputs": [
    {
     "data": {
      "text/html": [
       "<div>\n",
       "<style scoped>\n",
       "    .dataframe tbody tr th:only-of-type {\n",
       "        vertical-align: middle;\n",
       "    }\n",
       "\n",
       "    .dataframe tbody tr th {\n",
       "        vertical-align: top;\n",
       "    }\n",
       "\n",
       "    .dataframe thead th {\n",
       "        text-align: right;\n",
       "    }\n",
       "</style>\n",
       "<table border=\"1\" class=\"dataframe\">\n",
       "  <thead>\n",
       "    <tr style=\"text-align: right;\">\n",
       "      <th></th>\n",
       "      <th>gene_ids</th>\n",
       "      <th>gene_name_IC</th>\n",
       "      <th>feature_type-0</th>\n",
       "      <th>gene_name_HCA</th>\n",
       "      <th>feature_types-1</th>\n",
       "      <th>gene_name</th>\n",
       "      <th>feature_type</th>\n",
       "    </tr>\n",
       "  </thead>\n",
       "  <tbody>\n",
       "  </tbody>\n",
       "</table>\n",
       "</div>"
      ],
      "text/plain": [
       "Empty DataFrame\n",
       "Columns: [gene_ids, gene_name_IC, feature_type-0, gene_name_HCA, feature_types-1, gene_name, feature_type]\n",
       "Index: []"
      ]
     },
     "execution_count": 46,
     "metadata": {},
     "output_type": "execute_result"
    }
   ],
   "source": [
    "adata_orig.var['feature_type'] = adata_orig.var['feature_type-0'].fillna(adata_orig.var['feature_types-1'])\n",
    "adata_orig.var[adata_orig.var.feature_type.isna()]"
   ]
  },
  {
   "cell_type": "code",
   "execution_count": 47,
   "metadata": {},
   "outputs": [],
   "source": [
    "adata_orig.var = adata_orig.var.reset_index().set_index('gene_name')"
   ]
  },
  {
   "cell_type": "code",
   "execution_count": 48,
   "metadata": {},
   "outputs": [],
   "source": [
    "adata_orig.var = adata_orig.var.iloc[:,1:]"
   ]
  },
  {
   "cell_type": "code",
   "execution_count": 49,
   "metadata": {},
   "outputs": [
    {
     "name": "stderr",
     "output_type": "stream",
     "text": [
      "/tmp/ipykernel_24257/3622999286.py:2: FutureWarning: The `inplace` parameter in pandas.Categorical.reorder_categories is deprecated and will be removed in a future version. Reordering categories will always return a new Categorical object.\n",
      "  adata_orig.obs.Group.cat.reorder_categories(['control','IHD'], inplace=True)\n"
     ]
    }
   ],
   "source": [
    "adata_orig.obs.Group = adata_orig.obs.Group.astype('category')\n",
    "adata_orig.obs.Group.cat.reorder_categories(['control','IHD'], inplace=True)"
   ]
  },
  {
   "cell_type": "code",
   "execution_count": 51,
   "metadata": {},
   "outputs": [
    {
     "name": "stderr",
     "output_type": "stream",
     "text": [
      "/home/mlee/anaconda3/envs/scanpy1.8.2/lib/python3.9/site-packages/anndata/_core/anndata.py:1220: FutureWarning: The `inplace` parameter in pandas.Categorical.reorder_categories is deprecated and will be removed in a future version. Reordering categories will always return a new Categorical object.\n",
      "  c.reorder_categories(natsorted(c.categories), inplace=True)\n",
      "... storing 'Sample' as categorical\n",
      "/home/mlee/anaconda3/envs/scanpy1.8.2/lib/python3.9/site-packages/anndata/_core/anndata.py:1220: FutureWarning: The `inplace` parameter in pandas.Categorical.reorder_categories is deprecated and will be removed in a future version. Reordering categories will always return a new Categorical object.\n",
      "  c.reorder_categories(natsorted(c.categories), inplace=True)\n",
      "... storing 'Patient' as categorical\n",
      "/home/mlee/anaconda3/envs/scanpy1.8.2/lib/python3.9/site-packages/anndata/_core/anndata.py:1220: FutureWarning: The `inplace` parameter in pandas.Categorical.reorder_categories is deprecated and will be removed in a future version. Reordering categories will always return a new Categorical object.\n",
      "  c.reorder_categories(natsorted(c.categories), inplace=True)\n",
      "... storing 'Location' as categorical\n"
     ]
    }
   ],
   "source": [
    "adata_orig.write(OUTDIR + '/CABG_HCA-LV-V3_RAW_2022-02-15_inner.h5ad')"
   ]
  },
  {
   "cell_type": "code",
   "execution_count": null,
   "metadata": {},
   "outputs": [],
   "source": []
  }
 ],
 "metadata": {
  "kernelspec": {
   "display_name": "Python [conda env:scanpy1.8.2]",
   "language": "python",
   "name": "conda-env-scanpy1.8.2-py"
  },
  "language_info": {
   "codemirror_mode": {
    "name": "ipython",
    "version": 3
   },
   "file_extension": ".py",
   "mimetype": "text/x-python",
   "name": "python",
   "nbconvert_exporter": "python",
   "pygments_lexer": "ipython3",
   "version": "3.9.7"
  }
 },
 "nbformat": 4,
 "nbformat_minor": 4
}
