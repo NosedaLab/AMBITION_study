{
 "cells": [
  {
   "attachments": {},
   "cell_type": "markdown",
   "metadata": {},
   "source": [
    "# Initial processing and QC of CABG snRNA-seq Data\n",
    "## Samples CABG\n",
    "## Analysis date 2022/02/15"
   ]
  },
  {
   "attachments": {},
   "cell_type": "markdown",
   "metadata": {},
   "source": [
    "Each single cell/nuclei RNA-seq dataset needs to be loaded individually such that any metadata (sample information such as sample name, replicate number, treatment group etc) can be added before they are all merged together.\n",
    "\n",
    "__Overview of steps__\n",
    "1. Create object for each sample\n",
    "    1. Load matrix data\n",
    "    2. Calculate QC metrics for each barcode/nuclei\n",
    "    3. Adding metadata to the .obs field of the anndata object\n",
    "2. Merge all samples\n",
    "3. Filter using QC metrics\n",
    "4. Write anndata object to file (.h5ad)\n"
   ]
  },
  {
   "attachments": {},
   "cell_type": "markdown",
   "metadata": {},
   "source": [
    "## Initalise packages "
   ]
  },
  {
   "cell_type": "code",
   "execution_count": 1,
   "metadata": {},
   "outputs": [
    {
     "name": "stdout",
     "output_type": "stream",
     "text": [
      "scanpy==1.8.2 anndata==0.7.6 umap==0.5.2 numpy==1.20.1 scipy==1.7.1 pandas==1.3.4 scikit-learn==1.0.1 statsmodels==0.13.0 python-igraph==0.9.8 pynndescent==0.5.4\n"
     ]
    }
   ],
   "source": [
    "import numpy as np\n",
    "import pandas as pd\n",
    "import anndata\n",
    "import scanpy as sc\n",
    "import seaborn as sns\n",
    "import scrublet as scr\n",
    "\n",
    "sc.settings.verbosity = 1  # verbosity: errors (0), warnings (1), info (2), hints (3)\n",
    "sc.settings.set_figure_params(dpi=120, color_map='viridis')\n",
    "sc.logging.print_header()\n",
    "\n",
    "%matplotlib inline\n",
    "\n",
    "import matplotlib.pyplot as plt\n",
    "plt.rcParams['figure.figsize'] = [5, 5]"
   ]
  },
  {
   "cell_type": "code",
   "execution_count": 2,
   "metadata": {},
   "outputs": [],
   "source": [
    "INDIR='/home/mlee/RDS/projects/ambition/live/CellRanger_output/GENEWIZ_Project_40-541317003'\n",
    "INDIR2='/home/mlee/RDS/projects/ambition/live/CellRanger_output/GENEWIZ_Project_40-596030144'\n",
    "INDIR3='/home/mlee/RDS/projects/ambition/live/CellRanger_output/GENEWIZ_Project_40-615194263'\n",
    "OUTDIR='/home/mlee/RDS/projects/ambition/live/Analysis'"
   ]
  },
  {
   "cell_type": "code",
   "execution_count": 3,
   "metadata": {},
   "outputs": [],
   "source": [
    "DATE='2022-02-15'"
   ]
  },
  {
   "attachments": {},
   "cell_type": "markdown",
   "metadata": {},
   "source": [
    "## 1. Create object for each sample"
   ]
  },
  {
   "attachments": {},
   "cell_type": "markdown",
   "metadata": {
    "tags": []
   },
   "source": [
    "## Patient_85_Ischaemic"
   ]
  },
  {
   "cell_type": "code",
   "execution_count": 4,
   "metadata": {},
   "outputs": [],
   "source": [
    "Patient_85_Ischaemic = sc.read_10x_mtx(\n",
    "    INDIR + '/Patient_85_Ischaemic' + '/outs/filtered_feature_bc_matrix',  # the directory with the `.mtx` file\n",
    "    var_names='gene_symbols',                  # use gene symbols for the variable names (variables-axis index)\n",
    "    cache=True)                                # write a cache file for faster subsequent reading\n",
    "adata = Patient_85_Ischaemic"
   ]
  },
  {
   "cell_type": "code",
   "execution_count": 5,
   "metadata": {},
   "outputs": [],
   "source": [
    "adata.var_names_make_unique()  # this is unnecessary if using `var_names='gene_ids'` in `sc.read_10x_mtx`"
   ]
  },
  {
   "cell_type": "code",
   "execution_count": 7,
   "metadata": {},
   "outputs": [],
   "source": [
    "sc.pp.filter_cells(adata, min_genes=200)"
   ]
  },
  {
   "attachments": {},
   "cell_type": "markdown",
   "metadata": {},
   "source": [
    "### Calculate QC metrics\n",
    "May need to adjust for naming convertion for mito and ribo genes for zebra fish"
   ]
  },
  {
   "cell_type": "code",
   "execution_count": 9,
   "metadata": {},
   "outputs": [],
   "source": [
    "mito_genes = adata.var_names.str.startswith('MT-') # Seaches for all genes that start with 'MT-'\n",
    "# for each cell compute fraction of counts in mito genes vs. all genes\n",
    "# the `.A1` is only necessary as X is sparse (to transform to a dense array after summing)\n",
    "adata.obs['percent_mito'] = np.sum(\n",
    "    adata[:, mito_genes].X, axis=1).A1 / np.sum(adata.X, axis=1).A1\n",
    "# add the total counts per cell as observations-annotation to adata\n",
    "adata.obs['n_counts'] = adata.X.sum(axis=1).A1\n",
    "adata.obs['log_counts'] = np.log(adata.obs['n_counts'])\n",
    "adata.obs['n_genes'] = (adata.X > 0).sum(1).A1\n",
    "ribo_genes = adata.var_names.str.startswith(('RPS','RPL')) # Seaches for all genes that start with 'RPS' or 'RPL'\n",
    "adata.obs['percent_ribo'] = np.sum(\n",
    "    adata[:, ribo_genes].X, axis=1).A1 / np.sum(adata.X, axis=1).A1"
   ]
  },
  {
   "cell_type": "code",
   "execution_count": 10,
   "metadata": {},
   "outputs": [
    {
     "name": "stdout",
     "output_type": "stream",
     "text": [
      "Preprocessing...\n",
      "Simulating doublets...\n",
      "Embedding transcriptomes using PCA...\n",
      "Calculating doublet scores...\n",
      "Automatically set threshold at doublet score = 0.65\n",
      "Detected doublet rate = 0.5%\n",
      "Estimated detectable doublet fraction = 7.2%\n",
      "Overall doublet rate:\n",
      "\tExpected   = 10.0%\n",
      "\tEstimated  = 6.5%\n",
      "Elapsed time: 2.8 seconds\n"
     ]
    }
   ],
   "source": [
    "scrub = scr.Scrublet(adata.X)\n",
    "doublet_scores, predicted_doublets = scrub.scrub_doublets()"
   ]
  },
  {
   "cell_type": "code",
   "execution_count": 11,
   "metadata": {},
   "outputs": [],
   "source": [
    "adata.obs['scrublet_score'] = doublet_scores\n",
    "adata.obs['predicted_doublets'] = predicted_doublets.astype(str)"
   ]
  },
  {
   "attachments": {},
   "cell_type": "markdown",
   "metadata": {},
   "source": [
    "### Add metadata for the sample\n",
    "You can add any information you want that might be useful to look at later. You can always add things later but it is easier if you do it now"
   ]
  },
  {
   "cell_type": "code",
   "execution_count": 12,
   "metadata": {},
   "outputs": [],
   "source": [
    "adata.obs['Sample'] = 'Patient_85_Ischaemic'\n",
    "adata.obs['Patient'] = 'Patient_85'\n",
    "adata.obs['Source'] = 'Nuclei'\n",
    "adata.obs['Region'] = 'LV'\n",
    "adata.obs['Group'] = 'IHD'\n",
    "adata.obs['Sample_type'] = 'CABG'\n",
    "adata.obs['Location'] = 'Ischaemic'"
   ]
  },
  {
   "attachments": {},
   "cell_type": "markdown",
   "metadata": {
    "tags": []
   },
   "source": [
    "## Patient_85_Remote"
   ]
  },
  {
   "cell_type": "code",
   "execution_count": 17,
   "metadata": {},
   "outputs": [],
   "source": [
    "Patient_85_Remote = sc.read_10x_mtx(\n",
    "    INDIR + '/Patient_85_Remote' + '/outs/filtered_feature_bc_matrix',  # the directory with the `.mtx` file\n",
    "    var_names='gene_symbols',                  # use gene symbols for the variable names (variables-axis index)\n",
    "    cache=True)                                # write a cache file for faster subsequent reading\n",
    "adata = Patient_85_Remote"
   ]
  },
  {
   "cell_type": "code",
   "execution_count": 18,
   "metadata": {},
   "outputs": [],
   "source": [
    "adata.var_names_make_unique()  # this is unnecessary if using `var_names='gene_ids'` in `sc.read_10x_mtx`"
   ]
  },
  {
   "cell_type": "code",
   "execution_count": 20,
   "metadata": {},
   "outputs": [],
   "source": [
    "sc.pp.filter_cells(adata, min_genes=200)"
   ]
  },
  {
   "attachments": {},
   "cell_type": "markdown",
   "metadata": {},
   "source": [
    "### Calculate QC metrics\n",
    "May need to adjust for naming convertion for mito and ribo genes for zebra fish"
   ]
  },
  {
   "cell_type": "code",
   "execution_count": 22,
   "metadata": {},
   "outputs": [],
   "source": [
    "mito_genes = adata.var_names.str.startswith('MT-') # Seaches for all genes that start with 'MT-'\n",
    "# for each cell compute fraction of counts in mito genes vs. all genes\n",
    "# the `.A1` is only necessary as X is sparse (to transform to a dense array after summing)\n",
    "adata.obs['percent_mito'] = np.sum(\n",
    "    adata[:, mito_genes].X, axis=1).A1 / np.sum(adata.X, axis=1).A1\n",
    "# add the total counts per cell as observations-annotation to adata\n",
    "adata.obs['n_counts'] = adata.X.sum(axis=1).A1\n",
    "adata.obs['log_counts'] = np.log(adata.obs['n_counts'])\n",
    "adata.obs['n_genes'] = (adata.X > 0).sum(1).A1\n",
    "ribo_genes = adata.var_names.str.startswith(('RPS','RPL')) # Seaches for all genes that start with 'RPS' or 'RPL'\n",
    "adata.obs['percent_ribo'] = np.sum(\n",
    "    adata[:, ribo_genes].X, axis=1).A1 / np.sum(adata.X, axis=1).A1"
   ]
  },
  {
   "cell_type": "code",
   "execution_count": 23,
   "metadata": {},
   "outputs": [
    {
     "name": "stdout",
     "output_type": "stream",
     "text": [
      "Preprocessing...\n",
      "Simulating doublets...\n",
      "Embedding transcriptomes using PCA...\n",
      "Calculating doublet scores...\n",
      "Automatically set threshold at doublet score = 0.39\n",
      "Detected doublet rate = 3.2%\n",
      "Estimated detectable doublet fraction = 41.9%\n",
      "Overall doublet rate:\n",
      "\tExpected   = 10.0%\n",
      "\tEstimated  = 7.7%\n",
      "Elapsed time: 3.5 seconds\n"
     ]
    }
   ],
   "source": [
    "scrub = scr.Scrublet(adata.X)\n",
    "doublet_scores, predicted_doublets = scrub.scrub_doublets()"
   ]
  },
  {
   "cell_type": "code",
   "execution_count": 24,
   "metadata": {},
   "outputs": [],
   "source": [
    "adata.obs['scrublet_score'] = doublet_scores\n",
    "adata.obs['predicted_doublets'] = predicted_doublets.astype(str)"
   ]
  },
  {
   "attachments": {},
   "cell_type": "markdown",
   "metadata": {},
   "source": [
    "### Add metadata for the sample\n",
    "You can add any information you want that might be useful to look at later. You can always add things later but it is easier if you do it now"
   ]
  },
  {
   "cell_type": "code",
   "execution_count": 25,
   "metadata": {},
   "outputs": [],
   "source": [
    "adata.obs['Sample'] = 'Patient_85_Remote'\n",
    "adata.obs['Patient'] = 'Patient_85'\n",
    "adata.obs['Source'] = 'Nuclei'\n",
    "adata.obs['Region'] = 'LV'\n",
    "adata.obs['Group'] = 'IHD'\n",
    "adata.obs['Sample_type'] = 'CABG'\n",
    "adata.obs['Location'] = 'Remote'"
   ]
  },
  {
   "attachments": {},
   "cell_type": "markdown",
   "metadata": {
    "tags": []
   },
   "source": [
    "## Patient_80_Ischaemic"
   ]
  },
  {
   "cell_type": "code",
   "execution_count": 30,
   "metadata": {},
   "outputs": [],
   "source": [
    "Patient_80_Ischaemic = sc.read_10x_mtx(\n",
    "    INDIR2 + '/Patient_80_Ischaemic' + '/outs/filtered_feature_bc_matrix',  # the directory with the `.mtx` file\n",
    "    var_names='gene_symbols',                  # use gene symbols for the variable names (variables-axis index)\n",
    "    cache=True)                                # write a cache file for faster subsequent reading\n",
    "adata = Patient_80_Ischaemic"
   ]
  },
  {
   "cell_type": "code",
   "execution_count": 31,
   "metadata": {},
   "outputs": [],
   "source": [
    "adata.var_names_make_unique()  # this is unnecessary if using `var_names='gene_ids'` in `sc.read_10x_mtx`"
   ]
  },
  {
   "cell_type": "code",
   "execution_count": 33,
   "metadata": {},
   "outputs": [],
   "source": [
    "sc.pp.filter_cells(adata, min_genes=200)"
   ]
  },
  {
   "attachments": {},
   "cell_type": "markdown",
   "metadata": {},
   "source": [
    "### Calculate QC metrics\n",
    "May need to adjust for naming convertion for mito and ribo genes for zebra fish"
   ]
  },
  {
   "cell_type": "code",
   "execution_count": 35,
   "metadata": {},
   "outputs": [],
   "source": [
    "mito_genes = adata.var_names.str.startswith('MT-') # Seaches for all genes that start with 'MT-'\n",
    "# for each cell compute fraction of counts in mito genes vs. all genes\n",
    "# the `.A1` is only necessary as X is sparse (to transform to a dense array after summing)\n",
    "adata.obs['percent_mito'] = np.sum(\n",
    "    adata[:, mito_genes].X, axis=1).A1 / np.sum(adata.X, axis=1).A1\n",
    "# add the total counts per cell as observations-annotation to adata\n",
    "adata.obs['n_counts'] = adata.X.sum(axis=1).A1\n",
    "adata.obs['log_counts'] = np.log(adata.obs['n_counts'])\n",
    "adata.obs['n_genes'] = (adata.X > 0).sum(1).A1\n",
    "ribo_genes = adata.var_names.str.startswith(('RPS','RPL')) # Seaches for all genes that start with 'RPS' or 'RPL'\n",
    "adata.obs['percent_ribo'] = np.sum(\n",
    "    adata[:, ribo_genes].X, axis=1).A1 / np.sum(adata.X, axis=1).A1"
   ]
  },
  {
   "cell_type": "code",
   "execution_count": 36,
   "metadata": {},
   "outputs": [
    {
     "name": "stdout",
     "output_type": "stream",
     "text": [
      "Preprocessing...\n",
      "Simulating doublets...\n",
      "Embedding transcriptomes using PCA...\n",
      "Calculating doublet scores...\n",
      "Automatically set threshold at doublet score = 0.45\n",
      "Detected doublet rate = 1.1%\n",
      "Estimated detectable doublet fraction = 10.9%\n",
      "Overall doublet rate:\n",
      "\tExpected   = 10.0%\n",
      "\tEstimated  = 10.1%\n",
      "Elapsed time: 0.2 seconds\n"
     ]
    }
   ],
   "source": [
    "scrub = scr.Scrublet(adata.X)\n",
    "doublet_scores, predicted_doublets = scrub.scrub_doublets()"
   ]
  },
  {
   "cell_type": "code",
   "execution_count": 37,
   "metadata": {},
   "outputs": [],
   "source": [
    "adata.obs['scrublet_score'] = doublet_scores\n",
    "adata.obs['predicted_doublets'] = predicted_doublets.astype(str)"
   ]
  },
  {
   "attachments": {},
   "cell_type": "markdown",
   "metadata": {},
   "source": [
    "### Add metadata for the sample\n",
    "You can add any information you want that might be useful to look at later. You can always add things later but it is easier if you do it now"
   ]
  },
  {
   "cell_type": "code",
   "execution_count": 38,
   "metadata": {},
   "outputs": [],
   "source": [
    "adata.obs['Sample'] = 'Patient_80_Ischaemic'\n",
    "adata.obs['Patient'] = 'Patient_80'\n",
    "adata.obs['Source'] = 'Nuclei'\n",
    "adata.obs['Region'] = 'LV'\n",
    "adata.obs['Group'] = 'IHD'\n",
    "adata.obs['Sample_type'] = 'CABG'\n",
    "adata.obs['Location'] = 'Ischaemic'"
   ]
  },
  {
   "attachments": {},
   "cell_type": "markdown",
   "metadata": {
    "tags": []
   },
   "source": [
    "## Patient_80_Remote"
   ]
  },
  {
   "cell_type": "code",
   "execution_count": 43,
   "metadata": {},
   "outputs": [],
   "source": [
    "Patient_80_Remote = sc.read_10x_mtx(\n",
    "    INDIR2 + '/Patient_80_Remote' + '/outs/filtered_feature_bc_matrix',  # the directory with the `.mtx` file\n",
    "    var_names='gene_symbols',                  # use gene symbols for the variable names (variables-axis index)\n",
    "    cache=True)                                # write a cache file for faster subsequent reading\n",
    "adata =Patient_80_Remote"
   ]
  },
  {
   "cell_type": "code",
   "execution_count": 44,
   "metadata": {},
   "outputs": [],
   "source": [
    "adata.var_names_make_unique()  # this is unnecessary if using `var_names='gene_ids'` in `sc.read_10x_mtx`"
   ]
  },
  {
   "cell_type": "code",
   "execution_count": 46,
   "metadata": {},
   "outputs": [],
   "source": [
    "sc.pp.filter_cells(adata, min_genes=200)"
   ]
  },
  {
   "attachments": {},
   "cell_type": "markdown",
   "metadata": {},
   "source": [
    "### Calculate QC metrics\n",
    "May need to adjust for naming convertion for mito and ribo genes for zebra fish"
   ]
  },
  {
   "cell_type": "code",
   "execution_count": 48,
   "metadata": {},
   "outputs": [],
   "source": [
    "mito_genes = adata.var_names.str.startswith('MT-') # Seaches for all genes that start with 'MT-'\n",
    "# for each cell compute fraction of counts in mito genes vs. all genes\n",
    "# the `.A1` is only necessary as X is sparse (to transform to a dense array after summing)\n",
    "adata.obs['percent_mito'] = np.sum(\n",
    "    adata[:, mito_genes].X, axis=1).A1 / np.sum(adata.X, axis=1).A1\n",
    "# add the total counts per cell as observations-annotation to adata\n",
    "adata.obs['n_counts'] = adata.X.sum(axis=1).A1\n",
    "adata.obs['log_counts'] = np.log(adata.obs['n_counts'])\n",
    "adata.obs['n_genes'] = (adata.X > 0).sum(1).A1\n",
    "ribo_genes = adata.var_names.str.startswith(('RPS','RPL')) # Seaches for all genes that start with 'RPS' or 'RPL'\n",
    "adata.obs['percent_ribo'] = np.sum(\n",
    "    adata[:, ribo_genes].X, axis=1).A1 / np.sum(adata.X, axis=1).A1"
   ]
  },
  {
   "cell_type": "code",
   "execution_count": 49,
   "metadata": {},
   "outputs": [
    {
     "name": "stdout",
     "output_type": "stream",
     "text": [
      "Preprocessing...\n",
      "Simulating doublets...\n",
      "Embedding transcriptomes using PCA...\n",
      "Calculating doublet scores...\n",
      "Automatically set threshold at doublet score = 0.41\n",
      "Detected doublet rate = 0.8%\n",
      "Estimated detectable doublet fraction = 7.1%\n",
      "Overall doublet rate:\n",
      "\tExpected   = 10.0%\n",
      "\tEstimated  = 11.3%\n",
      "Elapsed time: 0.1 seconds\n"
     ]
    }
   ],
   "source": [
    "scrub = scr.Scrublet(adata.X)\n",
    "doublet_scores, predicted_doublets = scrub.scrub_doublets()"
   ]
  },
  {
   "cell_type": "code",
   "execution_count": 50,
   "metadata": {},
   "outputs": [],
   "source": [
    "adata.obs['scrublet_score'] = doublet_scores\n",
    "adata.obs['predicted_doublets'] = predicted_doublets.astype(str)"
   ]
  },
  {
   "attachments": {},
   "cell_type": "markdown",
   "metadata": {},
   "source": [
    "### Add metadata for the sample\n",
    "You can add any information you want that might be useful to look at later. You can always add things later but it is easier if you do it now"
   ]
  },
  {
   "cell_type": "code",
   "execution_count": 51,
   "metadata": {},
   "outputs": [],
   "source": [
    "adata.obs['Sample'] = 'Patient_80_Remote'\n",
    "adata.obs['Patient'] = 'Patient_80'\n",
    "adata.obs['Source'] = 'Nuclei'\n",
    "adata.obs['Region'] = 'LV'\n",
    "adata.obs['Group'] = 'IHD'\n",
    "adata.obs['Sample_type'] = 'CABG'\n",
    "adata.obs['Location'] = 'Remote'"
   ]
  },
  {
   "attachments": {},
   "cell_type": "markdown",
   "metadata": {
    "tags": []
   },
   "source": [
    "## Patient_83_Ischaemic"
   ]
  },
  {
   "cell_type": "code",
   "execution_count": 56,
   "metadata": {},
   "outputs": [],
   "source": [
    "Patient_80_Remote = sc.read_10x_mtx(\n",
    "    INDIR2 + '/Patient_80_Remote' + '/outs/filtered_feature_bc_matrix',  # the directory with the `.mtx` file\n",
    "    var_names='gene_symbols',                  # use gene symbols for the variable names (variables-axis index)\n",
    "    cache=True)                                # write a cache file for faster subsequent reading\n",
    "adata = Patient_80_Remote"
   ]
  },
  {
   "cell_type": "code",
   "execution_count": 57,
   "metadata": {},
   "outputs": [],
   "source": [
    "adata.var_names_make_unique()  # this is unnecessary if using `var_names='gene_ids'` in `sc.read_10x_mtx`"
   ]
  },
  {
   "cell_type": "code",
   "execution_count": 59,
   "metadata": {},
   "outputs": [],
   "source": [
    "sc.pp.filter_cells(adata, min_genes=200)"
   ]
  },
  {
   "attachments": {},
   "cell_type": "markdown",
   "metadata": {},
   "source": [
    "### Calculate QC metrics\n",
    "May need to adjust for naming convertion for mito and ribo genes for zebra fish"
   ]
  },
  {
   "cell_type": "code",
   "execution_count": 61,
   "metadata": {},
   "outputs": [],
   "source": [
    "mito_genes = adata.var_names.str.startswith('MT-') # Seaches for all genes that start with 'MT-'\n",
    "# for each cell compute fraction of counts in mito genes vs. all genes\n",
    "# the `.A1` is only necessary as X is sparse (to transform to a dense array after summing)\n",
    "adata.obs['percent_mito'] = np.sum(\n",
    "    adata[:, mito_genes].X, axis=1).A1 / np.sum(adata.X, axis=1).A1\n",
    "# add the total counts per cell as observations-annotation to adata\n",
    "adata.obs['n_counts'] = adata.X.sum(axis=1).A1\n",
    "adata.obs['log_counts'] = np.log(adata.obs['n_counts'])\n",
    "adata.obs['n_genes'] = (adata.X > 0).sum(1).A1\n",
    "ribo_genes = adata.var_names.str.startswith(('RPS','RPL')) # Seaches for all genes that start with 'RPS' or 'RPL'\n",
    "adata.obs['percent_ribo'] = np.sum(\n",
    "    adata[:, ribo_genes].X, axis=1).A1 / np.sum(adata.X, axis=1).A1"
   ]
  },
  {
   "cell_type": "code",
   "execution_count": 62,
   "metadata": {},
   "outputs": [
    {
     "name": "stdout",
     "output_type": "stream",
     "text": [
      "Preprocessing...\n",
      "Simulating doublets...\n",
      "Embedding transcriptomes using PCA...\n",
      "Calculating doublet scores...\n",
      "Automatically set threshold at doublet score = 0.41\n",
      "Detected doublet rate = 0.8%\n",
      "Estimated detectable doublet fraction = 7.1%\n",
      "Overall doublet rate:\n",
      "\tExpected   = 10.0%\n",
      "\tEstimated  = 11.3%\n",
      "Elapsed time: 0.2 seconds\n"
     ]
    }
   ],
   "source": [
    "scrub = scr.Scrublet(adata.X)\n",
    "doublet_scores, predicted_doublets = scrub.scrub_doublets()"
   ]
  },
  {
   "cell_type": "code",
   "execution_count": 63,
   "metadata": {},
   "outputs": [],
   "source": [
    "adata.obs['scrublet_score'] = doublet_scores\n",
    "adata.obs['predicted_doublets'] = predicted_doublets.astype(str)"
   ]
  },
  {
   "attachments": {},
   "cell_type": "markdown",
   "metadata": {},
   "source": [
    "### Add metadata for the sample\n",
    "You can add any information you want that might be useful to look at later. You can always add things later but it is easier if you do it now"
   ]
  },
  {
   "cell_type": "code",
   "execution_count": 64,
   "metadata": {},
   "outputs": [],
   "source": [
    "adata.obs['Sample'] = 'Patient_83_Ischaemic'\n",
    "adata.obs['Patient'] = 'Patient_83'\n",
    "adata.obs['Source'] = 'Nuclei'\n",
    "adata.obs['Region'] = 'LV'\n",
    "adata.obs['Group'] = 'IHD'\n",
    "adata.obs['Sample_type'] = 'CABG'\n",
    "adata.obs['Location'] = 'Ischaemic'"
   ]
  },
  {
   "attachments": {},
   "cell_type": "markdown",
   "metadata": {
    "tags": []
   },
   "source": [
    "## Patient_83_Remote"
   ]
  },
  {
   "cell_type": "code",
   "execution_count": 69,
   "metadata": {},
   "outputs": [],
   "source": [
    "Patient_83_Remote = sc.read_10x_mtx(\n",
    "    INDIR2 + '/Patient_83_Remote' + '/outs/filtered_feature_bc_matrix',  # the directory with the `.mtx` file\n",
    "    var_names='gene_symbols',                  # use gene symbols for the variable names (variables-axis index)\n",
    "    cache=True)                                # write a cache file for faster subsequent reading\n",
    "adata =Patient_83_Remote"
   ]
  },
  {
   "cell_type": "code",
   "execution_count": 70,
   "metadata": {},
   "outputs": [],
   "source": [
    "adata.var_names_make_unique()  # this is unnecessary if using `var_names='gene_ids'` in `sc.read_10x_mtx`"
   ]
  },
  {
   "cell_type": "code",
   "execution_count": 72,
   "metadata": {},
   "outputs": [],
   "source": [
    "sc.pp.filter_cells(adata, min_genes=200)"
   ]
  },
  {
   "attachments": {},
   "cell_type": "markdown",
   "metadata": {},
   "source": [
    "### Calculate QC metrics\n",
    "May need to adjust for naming convertion for mito and ribo genes for zebra fish"
   ]
  },
  {
   "cell_type": "code",
   "execution_count": 74,
   "metadata": {},
   "outputs": [],
   "source": [
    "mito_genes = adata.var_names.str.startswith('MT-') # Seaches for all genes that start with 'MT-'\n",
    "# for each cell compute fraction of counts in mito genes vs. all genes\n",
    "# the `.A1` is only necessary as X is sparse (to transform to a dense array after summing)\n",
    "adata.obs['percent_mito'] = np.sum(\n",
    "    adata[:, mito_genes].X, axis=1).A1 / np.sum(adata.X, axis=1).A1\n",
    "# add the total counts per cell as observations-annotation to adata\n",
    "adata.obs['n_counts'] = adata.X.sum(axis=1).A1\n",
    "adata.obs['log_counts'] = np.log(adata.obs['n_counts'])\n",
    "adata.obs['n_genes'] = (adata.X > 0).sum(1).A1\n",
    "ribo_genes = adata.var_names.str.startswith(('RPS','RPL')) # Seaches for all genes that start with 'RPS' or 'RPL'\n",
    "adata.obs['percent_ribo'] = np.sum(\n",
    "    adata[:, ribo_genes].X, axis=1).A1 / np.sum(adata.X, axis=1).A1"
   ]
  },
  {
   "cell_type": "code",
   "execution_count": 75,
   "metadata": {},
   "outputs": [
    {
     "name": "stdout",
     "output_type": "stream",
     "text": [
      "Preprocessing...\n",
      "Simulating doublets...\n",
      "Embedding transcriptomes using PCA...\n",
      "Calculating doublet scores...\n",
      "Automatically set threshold at doublet score = 0.60\n",
      "Detected doublet rate = 0.0%\n",
      "Estimated detectable doublet fraction = 0.1%\n",
      "Overall doublet rate:\n",
      "\tExpected   = 10.0%\n",
      "\tEstimated  = 0.0%\n",
      "Elapsed time: 1.4 seconds\n"
     ]
    }
   ],
   "source": [
    "scrub = scr.Scrublet(adata.X)\n",
    "doublet_scores, predicted_doublets = scrub.scrub_doublets()"
   ]
  },
  {
   "cell_type": "code",
   "execution_count": 76,
   "metadata": {},
   "outputs": [],
   "source": [
    "adata.obs['scrublet_score'] = doublet_scores\n",
    "adata.obs['predicted_doublets'] = predicted_doublets.astype(str)"
   ]
  },
  {
   "attachments": {},
   "cell_type": "markdown",
   "metadata": {},
   "source": [
    "### Add metadata for the sample\n",
    "You can add any information you want that might be useful to look at later. You can always add things later but it is easier if you do it now"
   ]
  },
  {
   "cell_type": "code",
   "execution_count": 77,
   "metadata": {},
   "outputs": [],
   "source": [
    "adata.obs['Sample'] = 'Patient_83_Remote'\n",
    "adata.obs['Patient'] = 'Patient_83'\n",
    "adata.obs['Source'] = 'Nuclei'\n",
    "adata.obs['Region'] = 'LV'\n",
    "adata.obs['Group'] = 'IHD'\n",
    "adata.obs['Sample_type'] = 'CABG'\n",
    "adata.obs['Location'] = 'Remote'"
   ]
  },
  {
   "attachments": {},
   "cell_type": "markdown",
   "metadata": {
    "tags": []
   },
   "source": [
    "## Patient_94_Ischaemic"
   ]
  },
  {
   "cell_type": "code",
   "execution_count": 82,
   "metadata": {},
   "outputs": [],
   "source": [
    "Patient_94_Ischaemic = sc.read_10x_mtx(\n",
    "    INDIR2 + '/Patient_94_Ischaemic' + '/outs/filtered_feature_bc_matrix',  # the directory with the `.mtx` file\n",
    "    var_names='gene_symbols',                  # use gene symbols for the variable names (variables-axis index)\n",
    "    cache=True)                                # write a cache file for faster subsequent reading\n",
    "adata = Patient_94_Ischaemic"
   ]
  },
  {
   "cell_type": "code",
   "execution_count": 83,
   "metadata": {},
   "outputs": [],
   "source": [
    "adata.var_names_make_unique()  # this is unnecessary if using `var_names='gene_ids'` in `sc.read_10x_mtx`"
   ]
  },
  {
   "cell_type": "code",
   "execution_count": 84,
   "metadata": {},
   "outputs": [
    {
     "data": {
      "text/plain": [
       "AnnData object with n_obs × n_vars = 393 × 36601\n",
       "    var: 'gene_ids', 'feature_types'"
      ]
     },
     "execution_count": 84,
     "metadata": {},
     "output_type": "execute_result"
    }
   ],
   "source": [
    "adata"
   ]
  },
  {
   "cell_type": "code",
   "execution_count": 85,
   "metadata": {},
   "outputs": [],
   "source": [
    "sc.pp.filter_cells(adata, min_genes=200)"
   ]
  },
  {
   "cell_type": "code",
   "execution_count": 86,
   "metadata": {},
   "outputs": [
    {
     "data": {
      "text/plain": [
       "AnnData object with n_obs × n_vars = 393 × 36601\n",
       "    obs: 'n_genes'\n",
       "    var: 'gene_ids', 'feature_types'"
      ]
     },
     "execution_count": 86,
     "metadata": {},
     "output_type": "execute_result"
    }
   ],
   "source": [
    "adata"
   ]
  },
  {
   "attachments": {},
   "cell_type": "markdown",
   "metadata": {},
   "source": [
    "### Calculate QC metrics\n",
    "May need to adjust for naming convertion for mito and ribo genes for zebra fish"
   ]
  },
  {
   "cell_type": "code",
   "execution_count": 87,
   "metadata": {},
   "outputs": [],
   "source": [
    "mito_genes = adata.var_names.str.startswith('MT-') # Seaches for all genes that start with 'MT-'\n",
    "# for each cell compute fraction of counts in mito genes vs. all genes\n",
    "# the `.A1` is only necessary as X is sparse (to transform to a dense array after summing)\n",
    "adata.obs['percent_mito'] = np.sum(\n",
    "    adata[:, mito_genes].X, axis=1).A1 / np.sum(adata.X, axis=1).A1\n",
    "# add the total counts per cell as observations-annotation to adata\n",
    "adata.obs['n_counts'] = adata.X.sum(axis=1).A1\n",
    "adata.obs['log_counts'] = np.log(adata.obs['n_counts'])\n",
    "adata.obs['n_genes'] = (adata.X > 0).sum(1).A1\n",
    "ribo_genes = adata.var_names.str.startswith(('RPS','RPL')) # Seaches for all genes that start with 'RPS' or 'RPL'\n",
    "adata.obs['percent_ribo'] = np.sum(\n",
    "    adata[:, ribo_genes].X, axis=1).A1 / np.sum(adata.X, axis=1).A1"
   ]
  },
  {
   "cell_type": "code",
   "execution_count": 88,
   "metadata": {},
   "outputs": [
    {
     "name": "stdout",
     "output_type": "stream",
     "text": [
      "Preprocessing...\n",
      "Simulating doublets...\n",
      "Embedding transcriptomes using PCA...\n",
      "Calculating doublet scores...\n",
      "Automatically set threshold at doublet score = 0.39\n",
      "Detected doublet rate = 1.0%\n",
      "Estimated detectable doublet fraction = 18.1%\n",
      "Overall doublet rate:\n",
      "\tExpected   = 10.0%\n",
      "\tEstimated  = 5.6%\n",
      "Elapsed time: 0.1 seconds\n"
     ]
    }
   ],
   "source": [
    "scrub = scr.Scrublet(adata.X)\n",
    "doublet_scores, predicted_doublets = scrub.scrub_doublets()"
   ]
  },
  {
   "cell_type": "code",
   "execution_count": 89,
   "metadata": {},
   "outputs": [],
   "source": [
    "adata.obs['scrublet_score'] = doublet_scores\n",
    "adata.obs['predicted_doublets'] = predicted_doublets.astype(str)"
   ]
  },
  {
   "attachments": {},
   "cell_type": "markdown",
   "metadata": {},
   "source": [
    "### Add metadata for the sample\n",
    "You can add any information you want that might be useful to look at later. You can always add things later but it is easier if you do it now"
   ]
  },
  {
   "cell_type": "code",
   "execution_count": 90,
   "metadata": {},
   "outputs": [],
   "source": [
    "adata.obs['Sample'] = 'Patient_94_Ischaemic'\n",
    "adata.obs['Patient'] = 'Patient_94'\n",
    "adata.obs['Source'] = 'Nuclei'\n",
    "adata.obs['Region'] = 'LV'\n",
    "adata.obs['Group'] = 'IHD'\n",
    "adata.obs['Sample_type'] = 'CABG'\n",
    "adata.obs['Location'] = 'Ischaemic'"
   ]
  },
  {
   "attachments": {},
   "cell_type": "markdown",
   "metadata": {
    "tags": []
   },
   "source": [
    "## Patient_94_Remote"
   ]
  },
  {
   "cell_type": "code",
   "execution_count": 95,
   "metadata": {},
   "outputs": [],
   "source": [
    "Patient_94_Remote = sc.read_10x_mtx(\n",
    "    INDIR2 + '/Patient_94_Remote' + '/outs/filtered_feature_bc_matrix',  # the directory with the `.mtx` file\n",
    "    var_names='gene_symbols',                  # use gene symbols for the variable names (variables-axis index)\n",
    "    cache=True)                                # write a cache file for faster subsequent reading\n",
    "adata = Patient_94_Remote"
   ]
  },
  {
   "cell_type": "code",
   "execution_count": 96,
   "metadata": {},
   "outputs": [],
   "source": [
    "adata.var_names_make_unique()  # this is unnecessary if using `var_names='gene_ids'` in `sc.read_10x_mtx`"
   ]
  },
  {
   "cell_type": "code",
   "execution_count": 98,
   "metadata": {},
   "outputs": [],
   "source": [
    "sc.pp.filter_cells(adata, min_genes=200)"
   ]
  },
  {
   "attachments": {},
   "cell_type": "markdown",
   "metadata": {},
   "source": [
    "### Calculate QC metrics\n",
    "May need to adjust for naming convertion for mito and ribo genes for zebra fish"
   ]
  },
  {
   "cell_type": "code",
   "execution_count": 100,
   "metadata": {},
   "outputs": [],
   "source": [
    "mito_genes = adata.var_names.str.startswith('MT-') # Seaches for all genes that start with 'MT-'\n",
    "# for each cell compute fraction of counts in mito genes vs. all genes\n",
    "# the `.A1` is only necessary as X is sparse (to transform to a dense array after summing)\n",
    "adata.obs['percent_mito'] = np.sum(\n",
    "    adata[:, mito_genes].X, axis=1).A1 / np.sum(adata.X, axis=1).A1\n",
    "# add the total counts per cell as observations-annotation to adata\n",
    "adata.obs['n_counts'] = adata.X.sum(axis=1).A1\n",
    "adata.obs['log_counts'] = np.log(adata.obs['n_counts'])\n",
    "adata.obs['n_genes'] = (adata.X > 0).sum(1).A1\n",
    "ribo_genes = adata.var_names.str.startswith(('RPS','RPL')) # Seaches for all genes that start with 'RPS' or 'RPL'\n",
    "adata.obs['percent_ribo'] = np.sum(\n",
    "    adata[:, ribo_genes].X, axis=1).A1 / np.sum(adata.X, axis=1).A1"
   ]
  },
  {
   "cell_type": "code",
   "execution_count": 101,
   "metadata": {},
   "outputs": [
    {
     "name": "stdout",
     "output_type": "stream",
     "text": [
      "Preprocessing...\n",
      "Simulating doublets...\n",
      "Embedding transcriptomes using PCA...\n",
      "Calculating doublet scores...\n",
      "Automatically set threshold at doublet score = 0.28\n",
      "Detected doublet rate = 5.3%\n",
      "Estimated detectable doublet fraction = 41.9%\n",
      "Overall doublet rate:\n",
      "\tExpected   = 10.0%\n",
      "\tEstimated  = 12.8%\n",
      "Elapsed time: 0.4 seconds\n"
     ]
    }
   ],
   "source": [
    "scrub = scr.Scrublet(adata.X)\n",
    "doublet_scores, predicted_doublets = scrub.scrub_doublets()"
   ]
  },
  {
   "cell_type": "code",
   "execution_count": 102,
   "metadata": {},
   "outputs": [],
   "source": [
    "adata.obs['scrublet_score'] = doublet_scores\n",
    "adata.obs['predicted_doublets'] = predicted_doublets.astype(str)"
   ]
  },
  {
   "attachments": {},
   "cell_type": "markdown",
   "metadata": {},
   "source": [
    "### Add metadata for the sample\n",
    "You can add any information you want that might be useful to look at later. You can always add things later but it is easier if you do it now"
   ]
  },
  {
   "cell_type": "code",
   "execution_count": 103,
   "metadata": {},
   "outputs": [],
   "source": [
    "adata.obs['Sample'] = 'Patient_94_Remote'\n",
    "adata.obs['Patient'] = 'Patient_94'\n",
    "adata.obs['Source'] = 'Nuclei'\n",
    "adata.obs['Region'] = 'LV'\n",
    "adata.obs['Group'] = 'IHD'\n",
    "adata.obs['Sample_type'] = 'CABG'\n",
    "adata.obs['Location'] = 'Remote'"
   ]
  },
  {
   "attachments": {},
   "cell_type": "markdown",
   "metadata": {
    "tags": []
   },
   "source": [
    "## Patient_102_Ischaemic"
   ]
  },
  {
   "cell_type": "code",
   "execution_count": 108,
   "metadata": {},
   "outputs": [],
   "source": [
    "Patient_102_Ischaemic = sc.read_10x_mtx(\n",
    "    INDIR2 + '/Patient_102_Ischaemic' + '/outs/filtered_feature_bc_matrix',  # the directory with the `.mtx` file\n",
    "    var_names='gene_symbols',                  # use gene symbols for the variable names (variables-axis index)\n",
    "    cache=True)                                # write a cache file for faster subsequent reading\n",
    "adata = Patient_102_Ischaemic"
   ]
  },
  {
   "cell_type": "code",
   "execution_count": 109,
   "metadata": {},
   "outputs": [],
   "source": [
    "adata.var_names_make_unique()  # this is unnecessary if using `var_names='gene_ids'` in `sc.read_10x_mtx`"
   ]
  },
  {
   "cell_type": "code",
   "execution_count": 111,
   "metadata": {},
   "outputs": [],
   "source": [
    "sc.pp.filter_cells(adata, min_genes=200)"
   ]
  },
  {
   "attachments": {},
   "cell_type": "markdown",
   "metadata": {},
   "source": [
    "### Calculate QC metrics\n",
    "May need to adjust for naming convertion for mito and ribo genes for zebra fish"
   ]
  },
  {
   "cell_type": "code",
   "execution_count": 113,
   "metadata": {},
   "outputs": [],
   "source": [
    "mito_genes = adata.var_names.str.startswith('MT-') # Seaches for all genes that start with 'MT-'\n",
    "# for each cell compute fraction of counts in mito genes vs. all genes\n",
    "# the `.A1` is only necessary as X is sparse (to transform to a dense array after summing)\n",
    "adata.obs['percent_mito'] = np.sum(\n",
    "    adata[:, mito_genes].X, axis=1).A1 / np.sum(adata.X, axis=1).A1\n",
    "# add the total counts per cell as observations-annotation to adata\n",
    "adata.obs['n_counts'] = adata.X.sum(axis=1).A1\n",
    "adata.obs['log_counts'] = np.log(adata.obs['n_counts'])\n",
    "adata.obs['n_genes'] = (adata.X > 0).sum(1).A1\n",
    "ribo_genes = adata.var_names.str.startswith(('RPS','RPL')) # Seaches for all genes that start with 'RPS' or 'RPL'\n",
    "adata.obs['percent_ribo'] = np.sum(\n",
    "    adata[:, ribo_genes].X, axis=1).A1 / np.sum(adata.X, axis=1).A1"
   ]
  },
  {
   "cell_type": "code",
   "execution_count": 114,
   "metadata": {},
   "outputs": [
    {
     "name": "stdout",
     "output_type": "stream",
     "text": [
      "Preprocessing...\n",
      "Simulating doublets...\n",
      "Embedding transcriptomes using PCA...\n",
      "Calculating doublet scores...\n",
      "Automatically set threshold at doublet score = 0.57\n",
      "Detected doublet rate = 0.3%\n",
      "Estimated detectable doublet fraction = 6.7%\n",
      "Overall doublet rate:\n",
      "\tExpected   = 10.0%\n",
      "\tEstimated  = 3.9%\n",
      "Elapsed time: 0.7 seconds\n"
     ]
    }
   ],
   "source": [
    "scrub = scr.Scrublet(adata.X)\n",
    "doublet_scores, predicted_doublets = scrub.scrub_doublets()"
   ]
  },
  {
   "cell_type": "code",
   "execution_count": 115,
   "metadata": {},
   "outputs": [],
   "source": [
    "adata.obs['scrublet_score'] = doublet_scores\n",
    "adata.obs['predicted_doublets'] = predicted_doublets.astype(str)"
   ]
  },
  {
   "attachments": {},
   "cell_type": "markdown",
   "metadata": {},
   "source": [
    "### Add metadata for the sample\n",
    "You can add any information you want that might be useful to look at later. You can always add things later but it is easier if you do it now"
   ]
  },
  {
   "cell_type": "code",
   "execution_count": 116,
   "metadata": {},
   "outputs": [],
   "source": [
    "adata.obs['Sample'] = 'Patient_102_Ischaemic'\n",
    "adata.obs['Patient'] = 'Patient_102'\n",
    "adata.obs['Source'] = 'Nuclei'\n",
    "adata.obs['Region'] = 'LV'\n",
    "adata.obs['Group'] = 'IHD'\n",
    "adata.obs['Sample_type'] = 'CABG'\n",
    "adata.obs['Location'] = 'Ischaemic'"
   ]
  },
  {
   "attachments": {},
   "cell_type": "markdown",
   "metadata": {
    "tags": []
   },
   "source": [
    "## Patient_102_Remote"
   ]
  },
  {
   "cell_type": "code",
   "execution_count": 121,
   "metadata": {},
   "outputs": [],
   "source": [
    "Patient_102_Remote = sc.read_10x_mtx(\n",
    "    INDIR2 + '/Patient_102_Remote' + '/outs/filtered_feature_bc_matrix',  # the directory with the `.mtx` file\n",
    "    var_names='gene_symbols',                  # use gene symbols for the variable names (variables-axis index)\n",
    "    cache=True)                                # write a cache file for faster subsequent reading\n",
    "adata = Patient_102_Remote"
   ]
  },
  {
   "cell_type": "code",
   "execution_count": 122,
   "metadata": {},
   "outputs": [],
   "source": [
    "adata.var_names_make_unique()  # this is unnecessary if using `var_names='gene_ids'` in `sc.read_10x_mtx`"
   ]
  },
  {
   "cell_type": "code",
   "execution_count": 124,
   "metadata": {},
   "outputs": [],
   "source": [
    "sc.pp.filter_cells(adata, min_genes=200)"
   ]
  },
  {
   "attachments": {},
   "cell_type": "markdown",
   "metadata": {},
   "source": [
    "### Calculate QC metrics\n",
    "May need to adjust for naming convertion for mito and ribo genes for zebra fish"
   ]
  },
  {
   "cell_type": "code",
   "execution_count": 126,
   "metadata": {},
   "outputs": [],
   "source": [
    "mito_genes = adata.var_names.str.startswith('MT-') # Seaches for all genes that start with 'MT-'\n",
    "# for each cell compute fraction of counts in mito genes vs. all genes\n",
    "# the `.A1` is only necessary as X is sparse (to transform to a dense array after summing)\n",
    "adata.obs['percent_mito'] = np.sum(\n",
    "    adata[:, mito_genes].X, axis=1).A1 / np.sum(adata.X, axis=1).A1\n",
    "# add the total counts per cell as observations-annotation to adata\n",
    "adata.obs['n_counts'] = adata.X.sum(axis=1).A1\n",
    "adata.obs['log_counts'] = np.log(adata.obs['n_counts'])\n",
    "adata.obs['n_genes'] = (adata.X > 0).sum(1).A1\n",
    "ribo_genes = adata.var_names.str.startswith(('RPS','RPL')) # Seaches for all genes that start with 'RPS' or 'RPL'\n",
    "adata.obs['percent_ribo'] = np.sum(\n",
    "    adata[:, ribo_genes].X, axis=1).A1 / np.sum(adata.X, axis=1).A1"
   ]
  },
  {
   "cell_type": "code",
   "execution_count": 127,
   "metadata": {},
   "outputs": [
    {
     "name": "stdout",
     "output_type": "stream",
     "text": [
      "Preprocessing...\n",
      "Simulating doublets...\n",
      "Embedding transcriptomes using PCA...\n",
      "Calculating doublet scores...\n",
      "Automatically set threshold at doublet score = 0.38\n",
      "Detected doublet rate = 1.7%\n",
      "Estimated detectable doublet fraction = 24.6%\n",
      "Overall doublet rate:\n",
      "\tExpected   = 10.0%\n",
      "\tEstimated  = 7.0%\n",
      "Elapsed time: 0.1 seconds\n"
     ]
    }
   ],
   "source": [
    "scrub = scr.Scrublet(adata.X)\n",
    "doublet_scores, predicted_doublets = scrub.scrub_doublets()"
   ]
  },
  {
   "cell_type": "code",
   "execution_count": 128,
   "metadata": {},
   "outputs": [],
   "source": [
    "adata.obs['scrublet_score'] = doublet_scores\n",
    "adata.obs['predicted_doublets'] = predicted_doublets.astype(str)"
   ]
  },
  {
   "attachments": {},
   "cell_type": "markdown",
   "metadata": {},
   "source": [
    "### Add metadata for the sample\n",
    "You can add any information you want that might be useful to look at later. You can always add things later but it is easier if you do it now"
   ]
  },
  {
   "cell_type": "code",
   "execution_count": 129,
   "metadata": {},
   "outputs": [],
   "source": [
    "adata.obs['Sample'] = 'Patient_102_Remote'\n",
    "adata.obs['Patient'] = 'Patient_102'\n",
    "adata.obs['Source'] = 'Nuclei'\n",
    "adata.obs['Region'] = 'LV'\n",
    "adata.obs['Group'] = 'IHD'\n",
    "adata.obs['Sample_type'] = 'CABG'\n",
    "adata.obs['Location'] = 'Remote'"
   ]
  },
  {
   "attachments": {},
   "cell_type": "markdown",
   "metadata": {
    "tags": []
   },
   "source": [
    "## Merge all samples"
   ]
  },
  {
   "cell_type": "code",
   "execution_count": 239,
   "metadata": {},
   "outputs": [],
   "source": [
    "adata_merged = anndata.AnnData.concatenate(Patient_80_Ischaemic, Patient_80_Remote, Patient_83_Ischaemic, Patient_83_Remote, Patient_85_Ischaemic, Patient_85_Remote, Patient_94_Ischaemic, Patient_94_Remote, Patient_102_Ischaemic, Patient_102_Remote, join = 'outer')"
   ]
  },
  {
   "cell_type": "code",
   "execution_count": 243,
   "metadata": {},
   "outputs": [
    {
     "name": "stderr",
     "output_type": "stream",
     "text": [
      "/home/mlee/anaconda3/envs/scanpy1.8.2/lib/python3.9/site-packages/anndata/_core/anndata.py:1220: FutureWarning: The `inplace` parameter in pandas.Categorical.reorder_categories is deprecated and will be removed in a future version. Reordering categories will always return a new Categorical object.\n",
      "  c.reorder_categories(natsorted(c.categories), inplace=True)\n",
      "... storing 'predicted_doublets' as categorical\n",
      "/home/mlee/anaconda3/envs/scanpy1.8.2/lib/python3.9/site-packages/anndata/_core/anndata.py:1220: FutureWarning: The `inplace` parameter in pandas.Categorical.reorder_categories is deprecated and will be removed in a future version. Reordering categories will always return a new Categorical object.\n",
      "  c.reorder_categories(natsorted(c.categories), inplace=True)\n",
      "... storing 'Sample' as categorical\n",
      "/home/mlee/anaconda3/envs/scanpy1.8.2/lib/python3.9/site-packages/anndata/_core/anndata.py:1220: FutureWarning: The `inplace` parameter in pandas.Categorical.reorder_categories is deprecated and will be removed in a future version. Reordering categories will always return a new Categorical object.\n",
      "  c.reorder_categories(natsorted(c.categories), inplace=True)\n",
      "... storing 'Patient' as categorical\n",
      "/home/mlee/anaconda3/envs/scanpy1.8.2/lib/python3.9/site-packages/anndata/_core/anndata.py:1220: FutureWarning: The `inplace` parameter in pandas.Categorical.reorder_categories is deprecated and will be removed in a future version. Reordering categories will always return a new Categorical object.\n",
      "  c.reorder_categories(natsorted(c.categories), inplace=True)\n",
      "... storing 'Location' as categorical\n"
     ]
    }
   ],
   "source": [
    "# Save the unfiltered merged anndata object to .h5ad file\n",
    "adata_merged.write(OUTDIR + '/CABG_merged_unfiltered_' + DATE +'.h5ad')"
   ]
  },
  {
   "attachments": {},
   "cell_type": "markdown",
   "metadata": {
    "tags": []
   },
   "source": [
    "## Filter using QC metrics"
   ]
  },
  {
   "cell_type": "code",
   "execution_count": 245,
   "metadata": {},
   "outputs": [],
   "source": [
    "adata_merged_filtered = adata_merged.copy()\n",
    "# Filter by UMI counts\n",
    "sc.pp.filter_cells(adata_merged_filtered, min_counts=500)\n",
    "sc.pp.filter_cells(adata_merged_filtered, max_counts=15000)\n",
    "\n",
    "# Filter by number of genes expressedf\n",
    "sc.pp.filter_cells(adata_merged_filtered, min_genes=300)\n",
    "sc.pp.filter_cells(adata_merged_filtered, max_genes=6000)\n",
    "\n",
    "# Filter by %mitochondrial genes, %ribosomal genes, and scublet score (doublet probability)\n",
    "adata_merged_filtered = adata_merged_filtered[adata_merged_filtered.obs.percent_mito < 0.05, :]\n",
    "adata_merged_filtered = adata_merged_filtered[adata_merged_filtered.obs.percent_ribo < 0.05, :]\n",
    "adata_merged_filtered = adata_merged_filtered[adata_merged_filtered.obs.scrublet_score < 0.30, :]"
   ]
  },
  {
   "attachments": {},
   "cell_type": "markdown",
   "metadata": {},
   "source": [
    "### Write anndata object to file (.h5ad)"
   ]
  },
  {
   "cell_type": "code",
   "execution_count": 255,
   "metadata": {},
   "outputs": [],
   "source": [
    "adata_merged_filtered.write(OUTDIR + '/CABG_merged_filtered_' + DATE +'.h5ad')"
   ]
  },
  {
   "cell_type": "code",
   "execution_count": 260,
   "metadata": {},
   "outputs": [
    {
     "data": {
      "text/plain": [
       "'/home/mlee/RDS/projects/ambition/live/Analysis/CABG_merged_filtered_2022-02-15.h5ad'"
      ]
     },
     "execution_count": 260,
     "metadata": {},
     "output_type": "execute_result"
    }
   ],
   "source": [
    "(OUTDIR + '/CABG_merged_filtered_' + DATE +'.h5ad')"
   ]
  }
 ],
 "metadata": {
  "kernelspec": {
   "display_name": "Python [conda env:scanpy1.8.2]",
   "language": "python",
   "name": "conda-env-scanpy1.8.2-py"
  },
  "language_info": {
   "codemirror_mode": {
    "name": "ipython",
    "version": 3
   },
   "file_extension": ".py",
   "mimetype": "text/x-python",
   "name": "python",
   "nbconvert_exporter": "python",
   "pygments_lexer": "ipython3",
   "version": "3.9.7"
  }
 },
 "nbformat": 4,
 "nbformat_minor": 4
}
