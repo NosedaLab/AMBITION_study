{
 "cells": [
  {
   "attachments": {},
   "cell_type": "markdown",
   "metadata": {},
   "source": [
    "# EdgeR CABG vs Control\n",
    "## Analysis date: 2022/03/02"
   ]
  },
  {
   "cell_type": "code",
   "execution_count": 1,
   "metadata": {
    "vscode": {
     "languageId": "r"
    }
   },
   "outputs": [
    {
     "name": "stderr",
     "output_type": "stream",
     "text": [
      "Loading required package: limma\n",
      "\n",
      "Warning message:\n",
      "“package ‘ggplot2’ was built under R version 4.0.5”\n",
      "Loading required package: S4Vectors\n",
      "\n",
      "Loading required package: stats4\n",
      "\n",
      "Loading required package: BiocGenerics\n",
      "\n",
      "Loading required package: parallel\n",
      "\n",
      "\n",
      "Attaching package: ‘BiocGenerics’\n",
      "\n",
      "\n",
      "The following objects are masked from ‘package:parallel’:\n",
      "\n",
      "    clusterApply, clusterApplyLB, clusterCall, clusterEvalQ,\n",
      "    clusterExport, clusterMap, parApply, parCapply, parLapply,\n",
      "    parLapplyLB, parRapply, parSapply, parSapplyLB\n",
      "\n",
      "\n",
      "The following object is masked from ‘package:limma’:\n",
      "\n",
      "    plotMA\n",
      "\n",
      "\n",
      "The following objects are masked from ‘package:stats’:\n",
      "\n",
      "    IQR, mad, sd, var, xtabs\n",
      "\n",
      "\n",
      "The following objects are masked from ‘package:base’:\n",
      "\n",
      "    anyDuplicated, append, as.data.frame, basename, cbind, colnames,\n",
      "    dirname, do.call, duplicated, eval, evalq, Filter, Find, get, grep,\n",
      "    grepl, intersect, is.unsorted, lapply, Map, mapply, match, mget,\n",
      "    order, paste, pmax, pmax.int, pmin, pmin.int, Position, rank,\n",
      "    rbind, Reduce, rownames, sapply, setdiff, sort, table, tapply,\n",
      "    union, unique, unsplit, which.max, which.min\n",
      "\n",
      "\n",
      "\n",
      "Attaching package: ‘S4Vectors’\n",
      "\n",
      "\n",
      "The following object is masked from ‘package:base’:\n",
      "\n",
      "    expand.grid\n",
      "\n",
      "\n",
      "Loading required package: IRanges\n",
      "\n",
      "Loading required package: GenomicRanges\n",
      "\n",
      "Loading required package: GenomeInfoDb\n",
      "\n",
      "Loading required package: SummarizedExperiment\n",
      "\n",
      "Loading required package: MatrixGenerics\n",
      "\n",
      "Loading required package: matrixStats\n",
      "\n",
      "Warning message:\n",
      "“package ‘matrixStats’ was built under R version 4.0.5”\n",
      "\n",
      "Attaching package: ‘MatrixGenerics’\n",
      "\n",
      "\n",
      "The following objects are masked from ‘package:matrixStats’:\n",
      "\n",
      "    colAlls, colAnyNAs, colAnys, colAvgsPerRowSet, colCollapse,\n",
      "    colCounts, colCummaxs, colCummins, colCumprods, colCumsums,\n",
      "    colDiffs, colIQRDiffs, colIQRs, colLogSumExps, colMadDiffs,\n",
      "    colMads, colMaxs, colMeans2, colMedians, colMins, colOrderStats,\n",
      "    colProds, colQuantiles, colRanges, colRanks, colSdDiffs, colSds,\n",
      "    colSums2, colTabulates, colVarDiffs, colVars, colWeightedMads,\n",
      "    colWeightedMeans, colWeightedMedians, colWeightedSds,\n",
      "    colWeightedVars, rowAlls, rowAnyNAs, rowAnys, rowAvgsPerColSet,\n",
      "    rowCollapse, rowCounts, rowCummaxs, rowCummins, rowCumprods,\n",
      "    rowCumsums, rowDiffs, rowIQRDiffs, rowIQRs, rowLogSumExps,\n",
      "    rowMadDiffs, rowMads, rowMaxs, rowMeans2, rowMedians, rowMins,\n",
      "    rowOrderStats, rowProds, rowQuantiles, rowRanges, rowRanks,\n",
      "    rowSdDiffs, rowSds, rowSums2, rowTabulates, rowVarDiffs, rowVars,\n",
      "    rowWeightedMads, rowWeightedMeans, rowWeightedMedians,\n",
      "    rowWeightedSds, rowWeightedVars\n",
      "\n",
      "\n",
      "Loading required package: Biobase\n",
      "\n",
      "Welcome to Bioconductor\n",
      "\n",
      "    Vignettes contain introductory material; view with\n",
      "    'browseVignettes()'. To cite Bioconductor, see\n",
      "    'citation(\"Biobase\")', and for packages 'citation(\"pkgname\")'.\n",
      "\n",
      "\n",
      "\n",
      "Attaching package: ‘Biobase’\n",
      "\n",
      "\n",
      "The following object is masked from ‘package:MatrixGenerics’:\n",
      "\n",
      "    rowMedians\n",
      "\n",
      "\n",
      "The following objects are masked from ‘package:matrixStats’:\n",
      "\n",
      "    anyMissing, rowMedians\n",
      "\n",
      "\n"
     ]
    }
   ],
   "source": [
    "library(edgeR)\n",
    "library(magrittr)\n",
    "library(ggplot2)\n",
    "library(DESeq2)"
   ]
  },
  {
   "cell_type": "code",
   "execution_count": 2,
   "metadata": {
    "vscode": {
     "languageId": "r"
    }
   },
   "outputs": [],
   "source": [
    "INDIR <- '.'\n",
    "OUTDIR <- '.'"
   ]
  },
  {
   "cell_type": "code",
   "execution_count": 3,
   "metadata": {
    "vscode": {
     "languageId": "r"
    }
   },
   "outputs": [],
   "source": [
    "if (!file.exists(OUTDIR)){\n",
    "    dir.create(file.path(OUTDIR))\n",
    "}"
   ]
  },
  {
   "attachments": {},
   "cell_type": "markdown",
   "metadata": {
    "tags": []
   },
   "source": [
    "## Cell_type level"
   ]
  },
  {
   "cell_type": "code",
   "execution_count": 4,
   "metadata": {
    "vscode": {
     "languageId": "r"
    }
   },
   "outputs": [],
   "source": [
    "x=read.csv(paste(INDIR, \"ALL_CELLTYPE_PSEUDOBULK.csv\", sep='/'), row.names=1)\n",
    "genes_tofilter=read.csv(paste(INDIR, \"ALL_CELLTYPE_PSEUDOBULK_FILTERING.csv\", sep='/'))\n",
    "\n",
    "# Only needed for the column cell_state\n",
    "#CELLTYPE_STATE <- read.csv(paste(INDIR, \"CELLSTATE_CELLTYPE_MAP.csv\", sep='/'))\n",
    "#colnames(CELLTYPE_STATE) <- c(\"cell_states\", 'cell_type')\n",
    "\n",
    "# Removes patients with only few (<10) nuclei numbers (as they might bias the analysis)\n",
    "CELLTYPE_FILTER <- read.csv(paste(INDIR, \"ABSOLUTE_CELLTYPE_NUMBER.csv\", sep='/'))\n",
    "\n",
    "#rownames(x) <- x$X\n",
    "#x <- x[,-1]\n",
    "l <- strsplit(colnames(x), \"__\")"
   ]
  },
  {
   "cell_type": "code",
   "execution_count": 6,
   "metadata": {
    "vscode": {
     "languageId": "r"
    }
   },
   "outputs": [],
   "source": [
    "meta.data <- t(as.data.frame(l))\n",
    "rownames(meta.data) <- colnames(x)\n",
    "\n",
    "meta.data <- as.data.frame(meta.data)\n",
    "colnames(meta.data)  <-  c(\"Group\", 'Patient', 'cell_type')"
   ]
  },
  {
   "cell_type": "code",
   "execution_count": 10,
   "metadata": {
    "vscode": {
     "languageId": "r"
    }
   },
   "outputs": [],
   "source": [
    "meta.data$Patient_Group <- paste(meta.data$Patient, meta.data$Group, sep=\"_\")"
   ]
  },
  {
   "cell_type": "code",
   "execution_count": 11,
   "metadata": {
    "vscode": {
     "languageId": "r"
    }
   },
   "outputs": [
    {
     "data": {
      "text/html": [
       "<style>\n",
       ".list-inline {list-style: none; margin:0; padding: 0}\n",
       ".list-inline>li {display: inline-block}\n",
       ".list-inline>li:not(:last-child)::after {content: \"\\00b7\"; padding: 0 .5ex}\n",
       "</style>\n",
       "<ol class=list-inline><li>'EC'</li><li>'FB'</li><li>'Lymphoid'</li><li>'Myeloid'</li><li>'Neuronal'</li><li>'PC'</li><li>'SMC'</li><li>'vCM'</li><li>'Mast'</li><li>'AD'</li></ol>\n"
      ],
      "text/latex": [
       "\\begin{enumerate*}\n",
       "\\item 'EC'\n",
       "\\item 'FB'\n",
       "\\item 'Lymphoid'\n",
       "\\item 'Myeloid'\n",
       "\\item 'Neuronal'\n",
       "\\item 'PC'\n",
       "\\item 'SMC'\n",
       "\\item 'vCM'\n",
       "\\item 'Mast'\n",
       "\\item 'AD'\n",
       "\\end{enumerate*}\n"
      ],
      "text/markdown": [
       "1. 'EC'\n",
       "2. 'FB'\n",
       "3. 'Lymphoid'\n",
       "4. 'Myeloid'\n",
       "5. 'Neuronal'\n",
       "6. 'PC'\n",
       "7. 'SMC'\n",
       "8. 'vCM'\n",
       "9. 'Mast'\n",
       "10. 'AD'\n",
       "\n",
       "\n"
      ],
      "text/plain": [
       " [1] \"EC\"       \"FB\"       \"Lymphoid\" \"Myeloid\"  \"Neuronal\" \"PC\"      \n",
       " [7] \"SMC\"      \"vCM\"      \"Mast\"     \"AD\"      "
      ]
     },
     "metadata": {},
     "output_type": "display_data"
    }
   ],
   "source": [
    "as.character(unique(meta.data$cell_type))"
   ]
  },
  {
   "cell_type": "code",
   "execution_count": 12,
   "metadata": {
    "vscode": {
     "languageId": "r"
    }
   },
   "outputs": [],
   "source": [
    "GROUPS <- c('IHD')\n",
    "CELL_LEVEL <- 'CELLTYPE'"
   ]
  },
  {
   "cell_type": "code",
   "execution_count": 14,
   "metadata": {
    "vscode": {
     "languageId": "r"
    }
   },
   "outputs": [
    {
     "name": "stderr",
     "output_type": "stream",
     "text": [
      "\n",
      "###START: IHD #####\n",
      "\n",
      "\n",
      "\n",
      "###FINISHED: EC #####\n",
      "\n",
      "\n",
      "\n",
      "###FINISHED: FB #####\n",
      "\n",
      "\n",
      "\n",
      "###FINISHED: PC #####\n",
      "\n",
      "\n",
      "\n",
      "###FINISHED: vCM #####\n",
      "\n",
      "\n",
      "\n",
      "###FINISHED: SMC #####\n",
      "\n",
      "\n"
     ]
    }
   ],
   "source": [
    "i <- 1\n",
    "\n",
    "for(GROUP in as.character(GROUPS)){\n",
    "    message(\"\\n###START: \", GROUP,\" #####\\n\")\n",
    "    \n",
    "    #for(CELL_STATE in as.character(unique(meta.data$cell_type))){\n",
    "    for(CELL_STATE in c('EC','FB','PC','vCM','SMC')){\n",
    "         \n",
    "        CONTROL_COLUMN <- paste(\"control__\", sep=\"\")\n",
    "        GROUP_COLUMN <- paste(GROUP,\"__\", sep=\"\")\n",
    "        #CELLTYPE <- as.character(CELLTYPE_STATE[which(CELLTYPE_STATE$cell_type==CELL_STATE),\"cell_type\"])\n",
    "        #CELL_STATE <- 'BULK'\n",
    "        CELLTYPE <- CELL_STATE\n",
    "        \n",
    "        x_sub <- x[,which(meta.data$Group %in% c(\"control\", GROUP))]\n",
    "        meta.data_sub <- meta.data[which(meta.data$Group %in% c(\"control\", GROUP)),]\n",
    "        \n",
    "        x_sub <- x_sub[,which(meta.data_sub$cell_type %in% c(CELL_STATE))]\n",
    "        meta.data_sub <- meta.data_sub[which(meta.data_sub$cell_type %in% c(CELL_STATE)),]\n",
    "        \n",
    "        #### remove first line (cell_type column)\n",
    "        CELLTYPE_FILTER_SUB <- CELLTYPE_FILTER\n",
    "        PATIENTS_TOKEEP <- CELLTYPE_FILTER_SUB[which(CELLTYPE_FILTER_SUB$cell_type==CELL_STATE),-1]\n",
    "        PATIENTS_TOKEEP <- colnames(PATIENTS_TOKEEP)[which(as.logical(PATIENTS_TOKEEP))]\n",
    "        PATIENTS_TOKEEP <- gsub('^X','',PATIENTS_TOKEEP)\n",
    "        #if (length(PATIENTS_TOKEEP) <= 1) {\n",
    "        #    next\n",
    "        #}\n",
    "        ####\n",
    "        \n",
    "        # Subset only for patients which fulfill condition\n",
    "        x_sub <- x_sub[,which(meta.data_sub$Patient %in% PATIENTS_TOKEEP)]\n",
    "        meta.data_sub <- meta.data_sub[which(meta.data_sub$Patient %in% PATIENTS_TOKEEP),]\n",
    "        #meta.data_sub$Group = droplevels(meta.data_sub$Group) ## Drop factor levels\n",
    "   \n",
    "        \n",
    "        # The test is only run, if 2 conditions have at least 2 patients\n",
    "        if (length(unique(meta.data_sub$Group))==2 & \n",
    "            all(table(as.character(meta.data_sub$Group))>=3))\n",
    "           {\n",
    "             # Prepare DGEList object\n",
    "            meta.data_sub$Group <- as.factor(as.character(meta.data_sub$Group))\n",
    "            dge <- DGEList(counts=x_sub, group=meta.data_sub$Group)\n",
    "            \n",
    "            # Filter genes based on expression, the qlf Object will be filtered to exclude them from FDR calculation\n",
    "            genes_tofilter_sub_GROUP <- genes_tofilter[,which(gsub(\"^(.*)__.*__.*$\", \"\\\\1\", colnames(genes_tofilter)) %in% GROUP &\n",
    "                                                             gsub(\"^.*__(.*)__.*$\", \"\\\\1\", colnames(genes_tofilter)) %in% PATIENTS_TOKEEP &\n",
    "                                                             gsub(\"^.*__.*__(.*)$\", \"\\\\1\", colnames(genes_tofilter)) %in% CELL_STATE)]\n",
    "\n",
    "            genes_tofilter_sub_CONTROL <- genes_tofilter[,which(gsub(\"^(.*)__.*__.*$\", \"\\\\1\", colnames(genes_tofilter)) %in% 'control' &\n",
    "                                                             gsub(\"^.*__(.*)__.*$\", \"\\\\1\", colnames(genes_tofilter)) %in% PATIENTS_TOKEEP &\n",
    "                                                             gsub(\"^.*__.*__(.*)$\", \"\\\\1\", colnames(genes_tofilter)) %in% CELL_STATE)]\n",
    "            \n",
    "            genes_tofilter_sub <- data.frame(\"X\"=genes_tofilter[,\"gene_name\"],\n",
    "                                             CONTROL_COLUMN=apply(genes_tofilter_sub_CONTROL, 1, mean),\n",
    "                                             GROUP_COLUMN=apply(genes_tofilter_sub_GROUP, 1, mean))\n",
    "            colnames(genes_tofilter_sub) <- c(\"X\", CONTROL_COLUMN, GROUP_COLUMN)\n",
    "            \n",
    "            keep <- which(genes_tofilter_sub[,CONTROL_COLUMN] > 0.0125 |\n",
    "                          genes_tofilter_sub[,GROUP_COLUMN] > 0.0125)\n",
    "            \n",
    "            #keep <- genes_tofilter[,CONTROL_COLUMN]>0.0125 | ##### change & to | ##### \n",
    "            #        genes_tofilter[,REGION_COLUMN]>0.0125\n",
    "            #dge <- dge[keep, , keep.lib.sizes=FALSE]\n",
    "    \n",
    "            # PP, model matrix, https://www.nature.com/articles/nmeth.4612 (edgeRQLFDetRate)\n",
    "            dge <- calcNormFactors(dge)\n",
    "            cdr <- scale(colMeans(x_sub > 0))\n",
    "            design <- model.matrix(~ cdr + meta.data_sub$Group)\n",
    "    \n",
    "            # \n",
    "            dge <- estimateDisp(dge, design = design)\n",
    "            fit <- glmQLFit(dge, design = design)\n",
    "            qlf <- glmQLFTest(fit)\n",
    "    \n",
    "            # For all\n",
    "            tt <- topTags(qlf, n = Inf)\n",
    "            \n",
    "            # Only for \"expressed/detected\" genes\n",
    "            tt_filtered <- topTags(qlf[keep,], n = Inf)\n",
    "            \n",
    "            tt$table[,\"Gene\"] <- as.character(rownames(tt$table))\n",
    "            tt_filtered$table[,\"Gene\"] <- as.character(rownames(tt_filtered$table))\n",
    "            tt_filtered$table[,\"low_expression\"] <- \"F\" #####  Low-expression column ##### \n",
    "            tt_filtered$table[,\"FDR_plot\"] <- -log10(tt_filtered$table$FDR) #####  For plotting Volcano, here we use FDR, not pValue  ##### \n",
    "            \n",
    "            \n",
    "            tt_merged <- merge(tt$table[,c(\"Gene\", \"logFC\", \"logCPM\", 'F', 'PValue')], \n",
    "                               tt_filtered$table[,c(\"Gene\", \"FDR\", \"low_expression\", \"FDR_plot\")], \n",
    "                               by=\"Gene\", all=T)   \n",
    "            \n",
    "            # Replace NA FDRs with NA                   #####  ORDER CHANGED #####  \n",
    "            tt_merged[which(is.na(tt_merged$FDR)),\"FDR\"] <- 1 \n",
    "            \n",
    "            EXPRESSION_MEAN <- genes_tofilter_sub[,c(\"X\", CONTROL_COLUMN, GROUP_COLUMN)]\n",
    "            colnames(EXPRESSION_MEAN) <- c(\"Gene\", \"mean_exp_Control\", 'mean_exp_disease')\n",
    "            tt_merged <- merge(tt_merged, EXPRESSION_MEAN, by=\"Gene\")\n",
    "    \n",
    "            \n",
    "            tt_merged[,\"Group\"] <- GROUP\n",
    "            tt_merged[,\"annotation_level\"] <- CELL_LEVEL\n",
    "            tt_merged[,\"cell_state\"] <- CELL_STATE\n",
    "            tt_merged[,\"cell_type\"] <- CELLTYPE\n",
    "            tt_merged[,\"comparison\"] <- paste(\"Control_\", GROUP, sep=\"\")\n",
    "            \n",
    "            ###### Suggestion to add those columns\n",
    "            tt_merged[,\"Observations_group\"] <- as.numeric(table(meta.data_sub$Group)[GROUP])\n",
    "            tt_merged[,\"Observations_reference\"] <- as.numeric(table(meta.data_sub$Group)['control'])\n",
    "            \n",
    "            # low expression add T\n",
    "            tt_merged[which(is.na(tt_merged$low_expression)),\"low_expression\"] <- \"T\"\n",
    "            \n",
    "            if(i==1){\n",
    "                 final_df <- tt_merged \n",
    "                 dge_cpm <- cpm(dge,normalized.lib.sizes=FALSE)\n",
    "                 sn_mean_exp <- data.frame(genes_tofilter_sub_GROUP, genes_tofilter_sub_CONTROL, row.names=genes_tofilter[,\"gene_name\"])\n",
    "            } else {\n",
    "                final_df <- rbind(final_df, tt_merged)\n",
    "                dge_cpm <- merge(dge_cpm, cpm(dge,normalized.lib.sizes=FALSE), by=0, all=TRUE) \n",
    "                rownames(dge_cpm) <- dge_cpm$Row.names\n",
    "                dge_cpm <- dge_cpm[,-1]\n",
    "                sn_mean_exp <- data.frame(sn_mean_exp, genes_tofilter_sub_GROUP, genes_tofilter_sub_CONTROL, row.names=genes_tofilter[,\"gene_name\"])\n",
    "            }\n",
    "            \n",
    "            i <- i + 1\n",
    "            message(\"\\n###FINISHED: \", CELL_STATE,\" #####\\n\")\n",
    "        } else {\n",
    "            message(\"\\n###Skip: \", CELL_STATE,\" #####\\n\")\n",
    "        }\n",
    "    }\n",
    "}"
   ]
  },
  {
   "cell_type": "code",
   "execution_count": 19,
   "metadata": {
    "vscode": {
     "languageId": "r"
    }
   },
   "outputs": [],
   "source": [
    "write.csv(final_df, paste(OUTDIR,\"ALL_CELLTYPE_Control_vs_CABG_EDGER.csv\", sep='/'))"
   ]
  },
  {
   "cell_type": "code",
   "execution_count": 21,
   "metadata": {
    "vscode": {
     "languageId": "r"
    }
   },
   "outputs": [],
   "source": [
    "#dge_cpm <- cpm(dge)\n",
    "write.csv(dge_cpm, paste(OUTDIR,\"ALL_CELLTYPE_Control_vs_CABG_CPMs.csv\", sep='/'))"
   ]
  },
  {
   "cell_type": "code",
   "execution_count": 22,
   "metadata": {
    "vscode": {
     "languageId": "r"
    }
   },
   "outputs": [],
   "source": [
    "write.csv(sn_mean_exp, paste(OUTDIR,\"ALL_CELLTYPE_snRNA_MEAN_EXPRESSION_FILTERED_CABG_combined.csv\", sep='/'))"
   ]
  }
 ],
 "metadata": {
  "kernelspec": {
   "display_name": "R [conda env:r403_cellchat]",
   "language": "R",
   "name": "conda-env-r403_cellchat-r"
  },
  "language_info": {
   "codemirror_mode": "r",
   "file_extension": ".r",
   "mimetype": "text/x-r-source",
   "name": "R",
   "pygments_lexer": "r",
   "version": "4.0.3"
  }
 },
 "nbformat": 4,
 "nbformat_minor": 4
}
