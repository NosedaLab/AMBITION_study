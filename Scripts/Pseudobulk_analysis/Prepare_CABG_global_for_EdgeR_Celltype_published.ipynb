{
 "cells": [
  {
   "attachments": {},
   "cell_type": "markdown",
   "metadata": {},
   "source": [
    "# Prepare CABG for EdgeR - Celltype\n",
    "## Analysis date 2022/02/23"
   ]
  },
  {
   "cell_type": "code",
   "execution_count": 1,
   "metadata": {},
   "outputs": [
    {
     "name": "stdout",
     "output_type": "stream",
     "text": [
      "WARNING: If you miss a compact list, please try `print_header`!\n",
      "The `sinfo` package has changed name and is now called `session_info` to become more discoverable and self-explanatory. The `sinfo` PyPI package will be kept around to avoid breaking old installs and you can downgrade to 0.3.2 if you want to use it without seeing this message. For the latest features and bug fixes, please install `session_info` instead. The usage and defaults also changed slightly, so please review the latest README at https://gitlab.com/joelostblom/session_info.\n",
      "-----\n",
      "anndata     0.7.6\n",
      "scanpy      1.8.2\n",
      "sinfo       0.3.4\n",
      "-----\n",
      "PIL                         8.4.0\n",
      "backcall                    0.2.0\n",
      "beta_ufunc                  NA\n",
      "binom_ufunc                 NA\n",
      "bottleneck                  1.3.2\n",
      "cloudpickle                 2.0.0\n",
      "cycler                      0.10.0\n",
      "cython_runtime              NA\n",
      "cytoolz                     0.11.0\n",
      "dask                        2021.10.0\n",
      "dateutil                    2.8.2\n",
      "debugpy                     1.4.1\n",
      "decorator                   5.1.0\n",
      "defusedxml                  0.7.1\n",
      "entrypoints                 0.3\n",
      "fsspec                      2021.08.1\n",
      "h5py                        3.5.0\n",
      "harmonypy                   NA\n",
      "igraph                      0.9.8\n",
      "ipykernel                   6.4.1\n",
      "ipython_genutils            0.2.0\n",
      "ipywidgets                  7.6.5\n",
      "jedi                        0.18.0\n",
      "jinja2                      3.0.2\n",
      "joblib                      1.1.0\n",
      "kiwisolver                  1.3.1\n",
      "leidenalg                   0.8.8\n",
      "llvmlite                    0.37.0\n",
      "markupsafe                  2.0.1\n",
      "matplotlib                  3.4.3\n",
      "matplotlib_inline           NA\n",
      "mkl                         2.4.0\n",
      "mpl_toolkits                NA\n",
      "natsort                     8.0.0\n",
      "nbinom_ufunc                NA\n",
      "numba                       0.54.1\n",
      "numexpr                     2.7.3\n",
      "numpy                       1.20.1\n",
      "packaging                   21.0\n",
      "pandas                      1.3.4\n",
      "parso                       0.8.2\n",
      "pexpect                     4.8.0\n",
      "pickleshare                 0.7.5\n",
      "pkg_resources               NA\n",
      "prompt_toolkit              3.0.20\n",
      "ptyprocess                  0.7.0\n",
      "pydev_ipython               NA\n",
      "pydevconsole                NA\n",
      "pydevd                      2.4.1\n",
      "pydevd_concurrency_analyser NA\n",
      "pydevd_file_utils           NA\n",
      "pydevd_plugins              NA\n",
      "pydevd_tracing              NA\n",
      "pyexpat                     NA\n",
      "pygments                    2.10.0\n",
      "pyparsing                   3.0.4\n",
      "pytz                        2021.3\n",
      "scipy                       1.7.1\n",
      "scrublet                    NA\n",
      "seaborn                     0.10.1\n",
      "six                         1.16.0\n",
      "sklearn                     1.0.1\n",
      "statsmodels                 0.13.0\n",
      "storemagic                  NA\n",
      "tables                      3.6.1\n",
      "texttable                   1.6.4\n",
      "threadpoolctl               2.2.0\n",
      "tlz                         0.11.0\n",
      "toolz                       0.11.1\n",
      "tornado                     6.1\n",
      "traitlets                   5.1.0\n",
      "wcwidth                     0.2.5\n",
      "yaml                        6.0\n",
      "zmq                         22.2.1\n",
      "-----\n",
      "IPython             7.29.0\n",
      "jupyter_client      7.0.1\n",
      "jupyter_core        4.8.1\n",
      "notebook            5.7.11\n",
      "-----\n",
      "Python 3.9.7 (default, Sep 16 2021, 13:09:58) [GCC 7.5.0]\n",
      "Linux-5.10.16.3-microsoft-standard-WSL2-x86_64-with-glibc2.31\n",
      "16 logical CPU cores, x86_64\n",
      "-----\n",
      "Session information updated at 2022-03-23 14:49\n",
      "\n"
     ]
    }
   ],
   "source": [
    "import numpy as np\n",
    "import pandas as pd\n",
    "import anndata\n",
    "import scanpy as sc\n",
    "import seaborn as sns\n",
    "import harmonypy as hm\n",
    "import scrublet as scr\n",
    "import matplotlib.pyplot as plt\n",
    "from collections import OrderedDict\n",
    "\n",
    "from scipy.stats.stats import pearsonr   \n",
    "import re\n",
    "from scipy.stats import rankdata \n",
    "import scipy\n",
    "import scipy.sparse\n",
    "\n",
    "sc.settings.verbosity = 1  # verbosity: errors (0), warnings (1), info (2), hints (3)\n",
    "sc.settings.set_figure_params(dpi=120, color_map='viridis')\n",
    "sc.logging.print_versions()\n",
    "\n",
    "%matplotlib inline\n",
    "\n",
    "import matplotlib.pyplot as plt\n",
    "plt.rcParams['figure.figsize'] = [5, 5]\n",
    "\n",
    "import matplotlib as mpl\n",
    "mpl.rcParams['pdf.fonttype'] = 42"
   ]
  },
  {
   "cell_type": "code",
   "execution_count": 2,
   "metadata": {},
   "outputs": [],
   "source": [
    "def stacked_barplot(adata, xaxis, stack, xaxis_label, legend_label, shift_top=0.2, xaxis_rotation=45, figsize=(10,10), percent=True, save=None):\n",
    "    tmp=pd.crosstab(adata.obs[xaxis],\n",
    "                adata.obs[stack]).sum(axis=1)\n",
    "    \n",
    "    ax= pd.crosstab(adata.obs[xaxis], \n",
    "                    adata.obs[stack]).apply(lambda r: r/r.sum()*100, axis=1)\n",
    "    #ax_1 = ax.plot.bar(figsize=(10,10),stacked=True, rot=0, colors=colors)\n",
    "    ax_1 = ax.plot.bar(figsize=figsize,stacked=True, rot=0)\n",
    "    #display(ax)\n",
    "    #plt.legend(title=\"Subject\") # loc='upper center', bbox_to_anchor=(0.1, 1.0), \n",
    "    plt.legend(loc='center left', bbox_to_anchor=(1, 0.5), title=legend_label)\n",
    "    plt.xlabel(xaxis_label,fontweight=\"bold\")\n",
    "    plt.ylabel('Percent Distribution',fontweight=\"bold\")\n",
    "    \n",
    "    if percent:\n",
    "        for rec in ax_1.patches:\n",
    "            height = rec.get_height()\n",
    "            ax_1.text(rec.get_x() + rec.get_width() / 2, rec.get_y() + height/2, \"{:.0f}%\".format(height),\n",
    "                   ha = 'center', va='center', fontsize=14.5, weight='bold') #\n",
    "    \n",
    "    for xaxistick in range(ax.shape[0]):\n",
    "        ax_1.text(xaxistick-shift_top,110,tmp[xaxistick],va='center', rotation=45, fontsize=14.5, weight='bold')\n",
    "    \n",
    "    plt.xticks(rotation=xaxis_rotation, ha = 'right')\n",
    "    \n",
    "    ax_1.grid(False)\n",
    "    if save is not None:\n",
    "        plt.savefig(save, bbox_inches='tight')\n",
    "    \n",
    "    plt.show()"
   ]
  },
  {
   "cell_type": "code",
   "execution_count": 3,
   "metadata": {},
   "outputs": [],
   "source": [
    "def correlation_analysis(scanpy_object, column_tosplitby, sum_or_mean):\n",
    "    d = {}\n",
    "    for cluster_number in np.unique(scanpy_object.obs[column_tosplitby].values):\n",
    "        #cluster_number=np.unique(heart.obs['louvain_annotated'].values)[1]\n",
    "        scanpy_object_subset = scanpy_object[scanpy_object.obs[column_tosplitby].isin([cluster_number])]\n",
    "\n",
    "        if sum_or_mean==\"mean\":\n",
    "            d[cluster_number] = np.squeeze(np.asarray(scanpy_object_subset.raw.X.mean(axis=0))) #np.log(+1)\n",
    "        elif sum_or_mean==\"sum\":\n",
    "            d[cluster_number] = np.squeeze(np.asarray(scanpy_object_subset.raw.X.sum(axis=0))) #np.log(+1)\n",
    "        del scanpy_object_subset\n",
    "        \n",
    "    return d"
   ]
  },
  {
   "attachments": {},
   "cell_type": "markdown",
   "metadata": {},
   "source": [
    "## Read data"
   ]
  },
  {
   "cell_type": "code",
   "execution_count": 4,
   "metadata": {},
   "outputs": [],
   "source": [
    "INDIR='..'\n",
    "OUTDIR='celltype'"
   ]
  },
  {
   "cell_type": "code",
   "execution_count": 5,
   "metadata": {},
   "outputs": [],
   "source": [
    "adata_orig = sc.read(INDIR + '/CABG_regressout_ANNOTATED_2022-02-23_inner.h5ad')"
   ]
  },
  {
   "cell_type": "code",
   "execution_count": 6,
   "metadata": {},
   "outputs": [
    {
     "data": {
      "text/plain": [
       "AnnData object with n_obs × n_vars = 64826 × 4324\n",
       "    obs: 'n_genes', 'percent_mito', 'n_counts', 'log_counts', 'percent_ribo', 'scrublet_score', 'predicted_doublets', 'Sample', 'Patient', 'Source', 'Region', 'Group', 'Sample_type', 'Location', 'batch', 'NRP', 'age_group', 'cell_source', 'HCA_cell_type', 'gender', 'type', 'version', 'HCA_cell_states', 'Used', 'leiden_010', 'leiden_011', 'leiden_012', 'leiden_013', 'leiden_014', 'leiden_015', 'leiden_016', 'leiden_017', 'leiden_018', 'leiden_019', 'leiden_020', 'leiden_021', 'leiden_022', 'leiden_023', 'leiden_024', 'leiden_025', 'leiden_026', 'leiden_027', 'leiden_028', 'leiden_029', 'leiden_030', 'leiden_031', 'leiden_032', 'leiden_033', 'leiden_034', 'leiden_035', 'leiden_036', 'leiden_037', 'leiden_038', 'leiden_039', 'leiden_001', 'leiden_002', 'leiden_003', 'leiden_004', 'leiden_005', 'leiden_006', 'leiden_007', 'leiden_008', 'leiden_009', 'leiden_040', 'leiden_050', 'leiden_060', 'leiden_070', 'leiden_080', 'leiden_090', 'leiden', 'cell_type', 'cell_type2', 'Patient_location', 'X'\n",
       "    var: 'gene_ids', 'gene_name_IC', 'feature_type-0', 'gene_name_HCA', 'feature_types-1', 'feature_type', 'highly_variable', 'means', 'dispersions', 'dispersions_norm', 'mean', 'std'\n",
       "    uns: 'HCA_cell_type_colors', 'Location_colors', 'Patient_colors', 'Sample_colors', 'cell_type_colors', 'dendrogram_leiden', 'hvg', 'leiden', 'leiden_001_colors', 'leiden_002_colors', 'leiden_003_colors', 'leiden_004_colors', 'leiden_005_colors', 'leiden_006_colors', 'leiden_007_colors', 'leiden_008_colors', 'leiden_009_colors', 'leiden_010_colors', 'leiden_011_colors', 'leiden_012_colors', 'leiden_013_colors', 'leiden_014_colors', 'leiden_015_colors', 'leiden_016_colors', 'leiden_017_colors', 'leiden_018_colors', 'leiden_019_colors', 'leiden_020_colors', 'leiden_021_colors', 'leiden_022_colors', 'leiden_023_colors', 'leiden_024_colors', 'leiden_025_colors', 'leiden_026_colors', 'leiden_027_colors', 'leiden_028_colors', 'leiden_029_colors', 'leiden_030_colors', 'leiden_031_colors', 'leiden_032_colors', 'leiden_033_colors', 'leiden_034_colors', 'leiden_035_colors', 'leiden_036_colors', 'leiden_037_colors', 'leiden_038_colors', 'leiden_039_colors', 'leiden_040_colors', 'leiden_050_colors', 'leiden_060_colors', 'leiden_070_colors', 'leiden_080_colors', 'leiden_090_colors', 'leiden_colors', 'neighbors', 'pca', 'rank_genes_groups', 'umap'\n",
       "    obsm: 'X_pca', 'X_umap'\n",
       "    varm: 'PCs'\n",
       "    obsp: 'connectivities', 'distances'"
      ]
     },
     "execution_count": 6,
     "metadata": {},
     "output_type": "execute_result"
    }
   ],
   "source": [
    "adata_orig"
   ]
  },
  {
   "cell_type": "code",
   "execution_count": 7,
   "metadata": {},
   "outputs": [],
   "source": [
    "adata_orig.obs['Patient_location'] = adata_orig.obs.Patient.astype(str) + '_' + adata_orig.obs.Location.astype(str)"
   ]
  },
  {
   "cell_type": "code",
   "execution_count": 8,
   "metadata": {},
   "outputs": [],
   "source": [
    "adata_orig.obs['Location_Patient'] = adata_orig.obs.Location.astype(str) + '_' + adata_orig.obs.Patient.astype(str)"
   ]
  },
  {
   "cell_type": "code",
   "execution_count": 10,
   "metadata": {},
   "outputs": [],
   "source": [
    "adata = anndata.AnnData(X=adata_orig.raw.X, obs=adata_orig.obs, var=adata_orig.raw.var)"
   ]
  },
  {
   "cell_type": "code",
   "execution_count": 20,
   "metadata": {},
   "outputs": [
    {
     "data": {
      "text/plain": [
       "AAACCCAAGGTACAGC-1-0-0                  Ischaemic\n",
       "AAACCCACACTTGAGT-1-0-0                  Ischaemic\n",
       "AAACGAAAGGAACGAA-1-0-0                  Ischaemic\n",
       "AAACGAATCCGAAATC-1-0-0                  Ischaemic\n",
       "AAACGCTGTAGGGTAC-1-0-0                  Ischaemic\n",
       "                                          ...    \n",
       "TTTACCATCCGCAGTG-1-HCAHeart8287124-1      Control\n",
       "TTTACGTGTAGAGTTA-1-HCAHeart8287124-1      Control\n",
       "TTTACTGGTGTTTACG-1-HCAHeart8287124-1      Control\n",
       "TTTATGCGTCTCAGAT-1-HCAHeart8287124-1      Control\n",
       "TTTCAGTGTACCTTCC-1-HCAHeart8287124-1      Control\n",
       "Name: Location, Length: 64826, dtype: category\n",
       "Categories (3, object): ['Control', 'Ischaemic', 'Remote']"
      ]
     },
     "execution_count": 20,
     "metadata": {},
     "output_type": "execute_result"
    }
   ],
   "source": [
    "adata.obs.Location.astype('category')"
   ]
  },
  {
   "cell_type": "code",
   "execution_count": 22,
   "metadata": {},
   "outputs": [],
   "source": [
    "adata_orig.obs.Location = adata_orig.obs.Location.astype('category').cat.reorder_categories(['Control','Remote','Ischaemic'])"
   ]
  },
  {
   "attachments": {},
   "cell_type": "markdown",
   "metadata": {},
   "source": [
    "## Prepare tables for EdgeR"
   ]
  },
  {
   "attachments": {},
   "cell_type": "markdown",
   "metadata": {},
   "source": [
    "## Pseudobulk for cell_type"
   ]
  },
  {
   "cell_type": "code",
   "execution_count": 25,
   "metadata": {},
   "outputs": [],
   "source": [
    "global_all = adata"
   ]
  },
  {
   "cell_type": "code",
   "execution_count": 26,
   "metadata": {},
   "outputs": [],
   "source": [
    "def paste0(i, j, k):\n",
    "    return(str(i)+\"__\"+str(j)+\"__\"+str(k))\n",
    "\n",
    "\n",
    "global_all.obs['pool_key']=[paste0(i,j,k) for i,j,k in zip(global_all.obs.Location, \n",
    "                                                        global_all.obs.Patient,\n",
    "                                                       global_all.obs.cell_type2\n",
    "                                                                           )]"
   ]
  },
  {
   "cell_type": "code",
   "execution_count": 28,
   "metadata": {},
   "outputs": [],
   "source": [
    "global_all.raw=global_all\n",
    "x=correlation_analysis(global_all, 'pool_key', 'sum')\n",
    "x=pd.DataFrame(x)\n",
    "x.index=global_all.var.index"
   ]
  },
  {
   "cell_type": "code",
   "execution_count": 30,
   "metadata": {},
   "outputs": [],
   "source": [
    "x.to_csv(OUTDIR + \"/ALL_BULK_PSEUDOBULK.csv\")"
   ]
  },
  {
   "attachments": {},
   "cell_type": "markdown",
   "metadata": {},
   "source": [
    "### Gene filter"
   ]
  },
  {
   "cell_type": "code",
   "execution_count": 31,
   "metadata": {},
   "outputs": [],
   "source": [
    "global_all.obs['Group_Patient_celltype']=[str(i) + \"__\" + str(j) + \"__\" + str(k) for i,j,k in zip(global_all.obs.Location, \n",
    "                                                                                      global_all.obs.Patient,\n",
    "                                                                                        global_all.obs.cell_type2)]"
   ]
  },
  {
   "cell_type": "code",
   "execution_count": 32,
   "metadata": {},
   "outputs": [],
   "source": [
    "subset_=sc.AnnData(global_all[:,global_all.var.index].raw.X, # \n",
    "                  obs=global_all.obs,\n",
    "                  var=global_all[:,global_all.var.index].raw.var\n",
    "                 )"
   ]
  },
  {
   "cell_type": "code",
   "execution_count": 33,
   "metadata": {},
   "outputs": [],
   "source": [
    "subset_.raw=subset_\n",
    "x=correlation_analysis(subset_, 'Group_Patient_celltype', 'mean') # MEan per Gene_Celltype_Patient\n",
    "x=pd.DataFrame(x)\n",
    "x.index=global_all.var.index"
   ]
  },
  {
   "cell_type": "code",
   "execution_count": 35,
   "metadata": {},
   "outputs": [],
   "source": [
    "x.to_csv(OUTDIR + \"/ALL_BULK_PSEUDOBULK_FILTERING.csv\")"
   ]
  },
  {
   "attachments": {},
   "cell_type": "markdown",
   "metadata": {},
   "source": [
    "## Celltype Abundance"
   ]
  },
  {
   "cell_type": "code",
   "execution_count": 37,
   "metadata": {},
   "outputs": [],
   "source": [
    "x=pd.crosstab(global_all.obs['cell_type2'],\n",
    "            global_all.obs['Patient_location'])"
   ]
  },
  {
   "cell_type": "code",
   "execution_count": 38,
   "metadata": {},
   "outputs": [],
   "source": [
    "x.to_csv( OUTDIR + \"/ABSOLUTE_CELLTYPE_NUMBER.csv\")"
   ]
  },
  {
   "cell_type": "code",
   "execution_count": null,
   "metadata": {},
   "outputs": [],
   "source": []
  },
  {
   "cell_type": "code",
   "execution_count": 39,
   "metadata": {},
   "outputs": [],
   "source": [
    "OUTDIR='celltype_CABG_vs_control'"
   ]
  },
  {
   "attachments": {},
   "cell_type": "markdown",
   "metadata": {},
   "source": [
    "## Prepare tables for EdgeR"
   ]
  },
  {
   "attachments": {},
   "cell_type": "markdown",
   "metadata": {},
   "source": [
    "## Pseudobulk for cell_type"
   ]
  },
  {
   "cell_type": "code",
   "execution_count": 28,
   "metadata": {},
   "outputs": [],
   "source": [
    "global_all = adata"
   ]
  },
  {
   "cell_type": "code",
   "execution_count": 29,
   "metadata": {},
   "outputs": [],
   "source": [
    "def paste0(i, j, k):\n",
    "    return(str(i)+\"__\"+str(j)+\"__\"+str(k))\n",
    "\n",
    "\n",
    "global_all.obs['pool_key']=[paste0(i,j,k) for i,j,k in zip(global_all.obs.Group, \n",
    "                                                        global_all.obs.Patient,\n",
    "                                                       global_all.obs.cell_type2\n",
    "                                                                           )]"
   ]
  },
  {
   "cell_type": "code",
   "execution_count": 31,
   "metadata": {},
   "outputs": [],
   "source": [
    "global_all.raw=global_all\n",
    "x=correlation_analysis(global_all, 'pool_key', 'sum')\n",
    "x=pd.DataFrame(x)\n",
    "x.index=global_all.var.index"
   ]
  },
  {
   "cell_type": "code",
   "execution_count": 45,
   "metadata": {},
   "outputs": [],
   "source": [
    "x.to_csv(OUTDIR + \"/ALL_CELLTYPE_PSEUDOBULK.csv\")"
   ]
  },
  {
   "attachments": {},
   "cell_type": "markdown",
   "metadata": {},
   "source": [
    "### Gene filter"
   ]
  },
  {
   "cell_type": "code",
   "execution_count": 46,
   "metadata": {},
   "outputs": [],
   "source": [
    "global_all.obs['Group_Patient_celltype']=[str(i) + \"__\" + str(j) + \"__\" + str(k) for i,j,k in zip(global_all.obs.Group, \n",
    "                                                                                      global_all.obs.Patient,\n",
    "                                                                                        global_all.obs.cell_type2)]"
   ]
  },
  {
   "cell_type": "code",
   "execution_count": 47,
   "metadata": {},
   "outputs": [],
   "source": [
    "subset_=sc.AnnData(global_all[:,global_all.var.index].raw.X, # \n",
    "                  obs=global_all.obs,\n",
    "                  var=global_all[:,global_all.var.index].raw.var\n",
    "                 )"
   ]
  },
  {
   "cell_type": "code",
   "execution_count": 48,
   "metadata": {},
   "outputs": [],
   "source": [
    "subset_.raw=subset_\n",
    "x=correlation_analysis(subset_, 'Group_Patient_celltype', 'mean') # MEan per Gene_Celltype_Patient\n",
    "x=pd.DataFrame(x)\n",
    "x.index=global_all.var.index"
   ]
  },
  {
   "cell_type": "code",
   "execution_count": 50,
   "metadata": {},
   "outputs": [],
   "source": [
    "x.to_csv(OUTDIR + \"/ALL_CELLTYPE_PSEUDOBULK_FILTERING.csv\")"
   ]
  },
  {
   "cell_type": "code",
   "execution_count": null,
   "metadata": {},
   "outputs": [],
   "source": []
  },
  {
   "attachments": {},
   "cell_type": "markdown",
   "metadata": {},
   "source": [
    "## Celltype Abundance"
   ]
  },
  {
   "cell_type": "code",
   "execution_count": 51,
   "metadata": {},
   "outputs": [
    {
     "data": {
      "text/html": [
       "<div>\n",
       "<style scoped>\n",
       "    .dataframe tbody tr th:only-of-type {\n",
       "        vertical-align: middle;\n",
       "    }\n",
       "\n",
       "    .dataframe tbody tr th {\n",
       "        vertical-align: top;\n",
       "    }\n",
       "\n",
       "    .dataframe thead th {\n",
       "        text-align: right;\n",
       "    }\n",
       "</style>\n",
       "<table border=\"1\" class=\"dataframe\">\n",
       "  <thead>\n",
       "    <tr style=\"text-align: right;\">\n",
       "      <th></th>\n",
       "      <th>n_genes</th>\n",
       "      <th>percent_mito</th>\n",
       "      <th>n_counts</th>\n",
       "      <th>log_counts</th>\n",
       "      <th>percent_ribo</th>\n",
       "      <th>scrublet_score</th>\n",
       "      <th>predicted_doublets</th>\n",
       "      <th>Sample</th>\n",
       "      <th>Patient</th>\n",
       "      <th>Source</th>\n",
       "      <th>...</th>\n",
       "      <th>leiden_070</th>\n",
       "      <th>leiden_080</th>\n",
       "      <th>leiden_090</th>\n",
       "      <th>leiden</th>\n",
       "      <th>cell_type</th>\n",
       "      <th>cell_type2</th>\n",
       "      <th>Patient_location</th>\n",
       "      <th>Location_Patient</th>\n",
       "      <th>pool_key</th>\n",
       "      <th>Group_Patient_celltype</th>\n",
       "    </tr>\n",
       "  </thead>\n",
       "  <tbody>\n",
       "    <tr>\n",
       "      <th>AAACCCAAGGTACAGC-1-0-0</th>\n",
       "      <td>1990</td>\n",
       "      <td>0.003428</td>\n",
       "      <td>3792.0</td>\n",
       "      <td>8.240649</td>\n",
       "      <td>0.003165</td>\n",
       "      <td>0.026052</td>\n",
       "      <td>False</td>\n",
       "      <td>22EG2</td>\n",
       "      <td>17MM00085</td>\n",
       "      <td>Nuclei</td>\n",
       "      <td>...</td>\n",
       "      <td>1</td>\n",
       "      <td>1</td>\n",
       "      <td>0</td>\n",
       "      <td>1</td>\n",
       "      <td>PC</td>\n",
       "      <td>PC</td>\n",
       "      <td>17MM00085_Ischaemic</td>\n",
       "      <td>Ischaemic_17MM00085</td>\n",
       "      <td>IHD__17MM00085__PC</td>\n",
       "      <td>IHD__17MM00085__PC</td>\n",
       "    </tr>\n",
       "    <tr>\n",
       "      <th>AAACCCACACTTGAGT-1-0-0</th>\n",
       "      <td>3523</td>\n",
       "      <td>0.000513</td>\n",
       "      <td>13644.0</td>\n",
       "      <td>9.521055</td>\n",
       "      <td>0.001026</td>\n",
       "      <td>0.142857</td>\n",
       "      <td>False</td>\n",
       "      <td>22EG2</td>\n",
       "      <td>17MM00085</td>\n",
       "      <td>Nuclei</td>\n",
       "      <td>...</td>\n",
       "      <td>8</td>\n",
       "      <td>9</td>\n",
       "      <td>9</td>\n",
       "      <td>10</td>\n",
       "      <td>vCM3</td>\n",
       "      <td>vCM</td>\n",
       "      <td>17MM00085_Ischaemic</td>\n",
       "      <td>Ischaemic_17MM00085</td>\n",
       "      <td>IHD__17MM00085__vCM</td>\n",
       "      <td>IHD__17MM00085__vCM</td>\n",
       "    </tr>\n",
       "    <tr>\n",
       "      <th>AAACGAAAGGAACGAA-1-0-0</th>\n",
       "      <td>3870</td>\n",
       "      <td>0.004059</td>\n",
       "      <td>13056.0</td>\n",
       "      <td>9.477003</td>\n",
       "      <td>0.001532</td>\n",
       "      <td>0.063584</td>\n",
       "      <td>False</td>\n",
       "      <td>22EG2</td>\n",
       "      <td>17MM00085</td>\n",
       "      <td>Nuclei</td>\n",
       "      <td>...</td>\n",
       "      <td>4</td>\n",
       "      <td>2</td>\n",
       "      <td>9</td>\n",
       "      <td>0</td>\n",
       "      <td>vCM1</td>\n",
       "      <td>vCM</td>\n",
       "      <td>17MM00085_Ischaemic</td>\n",
       "      <td>Ischaemic_17MM00085</td>\n",
       "      <td>IHD__17MM00085__vCM</td>\n",
       "      <td>IHD__17MM00085__vCM</td>\n",
       "    </tr>\n",
       "    <tr>\n",
       "      <th>AAACGAATCCGAAATC-1-0-0</th>\n",
       "      <td>1490</td>\n",
       "      <td>0.000337</td>\n",
       "      <td>2966.0</td>\n",
       "      <td>7.994969</td>\n",
       "      <td>0.001011</td>\n",
       "      <td>0.023256</td>\n",
       "      <td>False</td>\n",
       "      <td>22EG2</td>\n",
       "      <td>17MM00085</td>\n",
       "      <td>Nuclei</td>\n",
       "      <td>...</td>\n",
       "      <td>3</td>\n",
       "      <td>3</td>\n",
       "      <td>4</td>\n",
       "      <td>2</td>\n",
       "      <td>FB</td>\n",
       "      <td>FB</td>\n",
       "      <td>17MM00085_Ischaemic</td>\n",
       "      <td>Ischaemic_17MM00085</td>\n",
       "      <td>IHD__17MM00085__FB</td>\n",
       "      <td>IHD__17MM00085__FB</td>\n",
       "    </tr>\n",
       "    <tr>\n",
       "      <th>AAACGCTGTAGGGTAC-1-0-0</th>\n",
       "      <td>2475</td>\n",
       "      <td>0.003555</td>\n",
       "      <td>4782.0</td>\n",
       "      <td>8.472614</td>\n",
       "      <td>0.002719</td>\n",
       "      <td>0.066667</td>\n",
       "      <td>False</td>\n",
       "      <td>22EG2</td>\n",
       "      <td>17MM00085</td>\n",
       "      <td>Nuclei</td>\n",
       "      <td>...</td>\n",
       "      <td>3</td>\n",
       "      <td>3</td>\n",
       "      <td>4</td>\n",
       "      <td>2</td>\n",
       "      <td>FB</td>\n",
       "      <td>FB</td>\n",
       "      <td>17MM00085_Ischaemic</td>\n",
       "      <td>Ischaemic_17MM00085</td>\n",
       "      <td>IHD__17MM00085__FB</td>\n",
       "      <td>IHD__17MM00085__FB</td>\n",
       "    </tr>\n",
       "    <tr>\n",
       "      <th>...</th>\n",
       "      <td>...</td>\n",
       "      <td>...</td>\n",
       "      <td>...</td>\n",
       "      <td>...</td>\n",
       "      <td>...</td>\n",
       "      <td>...</td>\n",
       "      <td>...</td>\n",
       "      <td>...</td>\n",
       "      <td>...</td>\n",
       "      <td>...</td>\n",
       "      <td>...</td>\n",
       "      <td>...</td>\n",
       "      <td>...</td>\n",
       "      <td>...</td>\n",
       "      <td>...</td>\n",
       "      <td>...</td>\n",
       "      <td>...</td>\n",
       "      <td>...</td>\n",
       "      <td>...</td>\n",
       "      <td>...</td>\n",
       "      <td>...</td>\n",
       "    </tr>\n",
       "    <tr>\n",
       "      <th>TTTACCATCCGCAGTG-1-HCAHeart8287124-1</th>\n",
       "      <td>800</td>\n",
       "      <td>0.007812</td>\n",
       "      <td>1536.0</td>\n",
       "      <td>NaN</td>\n",
       "      <td>0.003906</td>\n",
       "      <td>0.261745</td>\n",
       "      <td>NaN</td>\n",
       "      <td>HCAHeart8287124</td>\n",
       "      <td>D11</td>\n",
       "      <td>Nuclei</td>\n",
       "      <td>...</td>\n",
       "      <td>7</td>\n",
       "      <td>7</td>\n",
       "      <td>8</td>\n",
       "      <td>6</td>\n",
       "      <td>Myeloid</td>\n",
       "      <td>Myeloid</td>\n",
       "      <td>D11_Control</td>\n",
       "      <td>Control_D11</td>\n",
       "      <td>control__D11__Myeloid</td>\n",
       "      <td>control__D11__Myeloid</td>\n",
       "    </tr>\n",
       "    <tr>\n",
       "      <th>TTTACGTGTAGAGTTA-1-HCAHeart8287124-1</th>\n",
       "      <td>1862</td>\n",
       "      <td>0.000884</td>\n",
       "      <td>4523.0</td>\n",
       "      <td>NaN</td>\n",
       "      <td>0.000442</td>\n",
       "      <td>0.098229</td>\n",
       "      <td>NaN</td>\n",
       "      <td>HCAHeart8287124</td>\n",
       "      <td>D11</td>\n",
       "      <td>Nuclei</td>\n",
       "      <td>...</td>\n",
       "      <td>15</td>\n",
       "      <td>18</td>\n",
       "      <td>19</td>\n",
       "      <td>0</td>\n",
       "      <td>vCM1</td>\n",
       "      <td>vCM</td>\n",
       "      <td>D11_Control</td>\n",
       "      <td>Control_D11</td>\n",
       "      <td>control__D11__vCM</td>\n",
       "      <td>control__D11__vCM</td>\n",
       "    </tr>\n",
       "    <tr>\n",
       "      <th>TTTACTGGTGTTTACG-1-HCAHeart8287124-1</th>\n",
       "      <td>931</td>\n",
       "      <td>0.013680</td>\n",
       "      <td>1462.0</td>\n",
       "      <td>NaN</td>\n",
       "      <td>0.002052</td>\n",
       "      <td>0.113475</td>\n",
       "      <td>NaN</td>\n",
       "      <td>HCAHeart8287124</td>\n",
       "      <td>D11</td>\n",
       "      <td>Nuclei</td>\n",
       "      <td>...</td>\n",
       "      <td>3</td>\n",
       "      <td>3</td>\n",
       "      <td>4</td>\n",
       "      <td>2</td>\n",
       "      <td>FB</td>\n",
       "      <td>FB</td>\n",
       "      <td>D11_Control</td>\n",
       "      <td>Control_D11</td>\n",
       "      <td>control__D11__FB</td>\n",
       "      <td>control__D11__FB</td>\n",
       "    </tr>\n",
       "    <tr>\n",
       "      <th>TTTATGCGTCTCAGAT-1-HCAHeart8287124-1</th>\n",
       "      <td>3173</td>\n",
       "      <td>0.000820</td>\n",
       "      <td>10980.0</td>\n",
       "      <td>NaN</td>\n",
       "      <td>0.001821</td>\n",
       "      <td>0.125475</td>\n",
       "      <td>NaN</td>\n",
       "      <td>HCAHeart8287124</td>\n",
       "      <td>D11</td>\n",
       "      <td>Nuclei</td>\n",
       "      <td>...</td>\n",
       "      <td>4</td>\n",
       "      <td>5</td>\n",
       "      <td>6</td>\n",
       "      <td>4</td>\n",
       "      <td>vCM2</td>\n",
       "      <td>vCM</td>\n",
       "      <td>D11_Control</td>\n",
       "      <td>Control_D11</td>\n",
       "      <td>control__D11__vCM</td>\n",
       "      <td>control__D11__vCM</td>\n",
       "    </tr>\n",
       "    <tr>\n",
       "      <th>TTTCAGTGTACCTTCC-1-HCAHeart8287124-1</th>\n",
       "      <td>526</td>\n",
       "      <td>0.005487</td>\n",
       "      <td>729.0</td>\n",
       "      <td>NaN</td>\n",
       "      <td>0.009602</td>\n",
       "      <td>0.226190</td>\n",
       "      <td>NaN</td>\n",
       "      <td>HCAHeart8287124</td>\n",
       "      <td>D11</td>\n",
       "      <td>Nuclei</td>\n",
       "      <td>...</td>\n",
       "      <td>5</td>\n",
       "      <td>4</td>\n",
       "      <td>5</td>\n",
       "      <td>3</td>\n",
       "      <td>EC</td>\n",
       "      <td>EC</td>\n",
       "      <td>D11_Control</td>\n",
       "      <td>Control_D11</td>\n",
       "      <td>control__D11__EC</td>\n",
       "      <td>control__D11__EC</td>\n",
       "    </tr>\n",
       "  </tbody>\n",
       "</table>\n",
       "<p>64826 rows × 76 columns</p>\n",
       "</div>"
      ],
      "text/plain": [
       "                                      n_genes  percent_mito  n_counts  \\\n",
       "AAACCCAAGGTACAGC-1-0-0                   1990      0.003428    3792.0   \n",
       "AAACCCACACTTGAGT-1-0-0                   3523      0.000513   13644.0   \n",
       "AAACGAAAGGAACGAA-1-0-0                   3870      0.004059   13056.0   \n",
       "AAACGAATCCGAAATC-1-0-0                   1490      0.000337    2966.0   \n",
       "AAACGCTGTAGGGTAC-1-0-0                   2475      0.003555    4782.0   \n",
       "...                                       ...           ...       ...   \n",
       "TTTACCATCCGCAGTG-1-HCAHeart8287124-1      800      0.007812    1536.0   \n",
       "TTTACGTGTAGAGTTA-1-HCAHeart8287124-1     1862      0.000884    4523.0   \n",
       "TTTACTGGTGTTTACG-1-HCAHeart8287124-1      931      0.013680    1462.0   \n",
       "TTTATGCGTCTCAGAT-1-HCAHeart8287124-1     3173      0.000820   10980.0   \n",
       "TTTCAGTGTACCTTCC-1-HCAHeart8287124-1      526      0.005487     729.0   \n",
       "\n",
       "                                      log_counts  percent_ribo  \\\n",
       "AAACCCAAGGTACAGC-1-0-0                  8.240649      0.003165   \n",
       "AAACCCACACTTGAGT-1-0-0                  9.521055      0.001026   \n",
       "AAACGAAAGGAACGAA-1-0-0                  9.477003      0.001532   \n",
       "AAACGAATCCGAAATC-1-0-0                  7.994969      0.001011   \n",
       "AAACGCTGTAGGGTAC-1-0-0                  8.472614      0.002719   \n",
       "...                                          ...           ...   \n",
       "TTTACCATCCGCAGTG-1-HCAHeart8287124-1         NaN      0.003906   \n",
       "TTTACGTGTAGAGTTA-1-HCAHeart8287124-1         NaN      0.000442   \n",
       "TTTACTGGTGTTTACG-1-HCAHeart8287124-1         NaN      0.002052   \n",
       "TTTATGCGTCTCAGAT-1-HCAHeart8287124-1         NaN      0.001821   \n",
       "TTTCAGTGTACCTTCC-1-HCAHeart8287124-1         NaN      0.009602   \n",
       "\n",
       "                                      scrublet_score predicted_doublets  \\\n",
       "AAACCCAAGGTACAGC-1-0-0                      0.026052              False   \n",
       "AAACCCACACTTGAGT-1-0-0                      0.142857              False   \n",
       "AAACGAAAGGAACGAA-1-0-0                      0.063584              False   \n",
       "AAACGAATCCGAAATC-1-0-0                      0.023256              False   \n",
       "AAACGCTGTAGGGTAC-1-0-0                      0.066667              False   \n",
       "...                                              ...                ...   \n",
       "TTTACCATCCGCAGTG-1-HCAHeart8287124-1        0.261745                NaN   \n",
       "TTTACGTGTAGAGTTA-1-HCAHeart8287124-1        0.098229                NaN   \n",
       "TTTACTGGTGTTTACG-1-HCAHeart8287124-1        0.113475                NaN   \n",
       "TTTATGCGTCTCAGAT-1-HCAHeart8287124-1        0.125475                NaN   \n",
       "TTTCAGTGTACCTTCC-1-HCAHeart8287124-1        0.226190                NaN   \n",
       "\n",
       "                                               Sample    Patient  Source  ...  \\\n",
       "AAACCCAAGGTACAGC-1-0-0                          22EG2  17MM00085  Nuclei  ...   \n",
       "AAACCCACACTTGAGT-1-0-0                          22EG2  17MM00085  Nuclei  ...   \n",
       "AAACGAAAGGAACGAA-1-0-0                          22EG2  17MM00085  Nuclei  ...   \n",
       "AAACGAATCCGAAATC-1-0-0                          22EG2  17MM00085  Nuclei  ...   \n",
       "AAACGCTGTAGGGTAC-1-0-0                          22EG2  17MM00085  Nuclei  ...   \n",
       "...                                               ...        ...     ...  ...   \n",
       "TTTACCATCCGCAGTG-1-HCAHeart8287124-1  HCAHeart8287124        D11  Nuclei  ...   \n",
       "TTTACGTGTAGAGTTA-1-HCAHeart8287124-1  HCAHeart8287124        D11  Nuclei  ...   \n",
       "TTTACTGGTGTTTACG-1-HCAHeart8287124-1  HCAHeart8287124        D11  Nuclei  ...   \n",
       "TTTATGCGTCTCAGAT-1-HCAHeart8287124-1  HCAHeart8287124        D11  Nuclei  ...   \n",
       "TTTCAGTGTACCTTCC-1-HCAHeart8287124-1  HCAHeart8287124        D11  Nuclei  ...   \n",
       "\n",
       "                                     leiden_070 leiden_080 leiden_090 leiden  \\\n",
       "AAACCCAAGGTACAGC-1-0-0                        1          1          0      1   \n",
       "AAACCCACACTTGAGT-1-0-0                        8          9          9     10   \n",
       "AAACGAAAGGAACGAA-1-0-0                        4          2          9      0   \n",
       "AAACGAATCCGAAATC-1-0-0                        3          3          4      2   \n",
       "AAACGCTGTAGGGTAC-1-0-0                        3          3          4      2   \n",
       "...                                         ...        ...        ...    ...   \n",
       "TTTACCATCCGCAGTG-1-HCAHeart8287124-1          7          7          8      6   \n",
       "TTTACGTGTAGAGTTA-1-HCAHeart8287124-1         15         18         19      0   \n",
       "TTTACTGGTGTTTACG-1-HCAHeart8287124-1          3          3          4      2   \n",
       "TTTATGCGTCTCAGAT-1-HCAHeart8287124-1          4          5          6      4   \n",
       "TTTCAGTGTACCTTCC-1-HCAHeart8287124-1          5          4          5      3   \n",
       "\n",
       "                                     cell_type cell_type2  \\\n",
       "AAACCCAAGGTACAGC-1-0-0                      PC         PC   \n",
       "AAACCCACACTTGAGT-1-0-0                    vCM3        vCM   \n",
       "AAACGAAAGGAACGAA-1-0-0                    vCM1        vCM   \n",
       "AAACGAATCCGAAATC-1-0-0                      FB         FB   \n",
       "AAACGCTGTAGGGTAC-1-0-0                      FB         FB   \n",
       "...                                        ...        ...   \n",
       "TTTACCATCCGCAGTG-1-HCAHeart8287124-1   Myeloid    Myeloid   \n",
       "TTTACGTGTAGAGTTA-1-HCAHeart8287124-1      vCM1        vCM   \n",
       "TTTACTGGTGTTTACG-1-HCAHeart8287124-1        FB         FB   \n",
       "TTTATGCGTCTCAGAT-1-HCAHeart8287124-1      vCM2        vCM   \n",
       "TTTCAGTGTACCTTCC-1-HCAHeart8287124-1        EC         EC   \n",
       "\n",
       "                                         Patient_location  \\\n",
       "AAACCCAAGGTACAGC-1-0-0                17MM00085_Ischaemic   \n",
       "AAACCCACACTTGAGT-1-0-0                17MM00085_Ischaemic   \n",
       "AAACGAAAGGAACGAA-1-0-0                17MM00085_Ischaemic   \n",
       "AAACGAATCCGAAATC-1-0-0                17MM00085_Ischaemic   \n",
       "AAACGCTGTAGGGTAC-1-0-0                17MM00085_Ischaemic   \n",
       "...                                                   ...   \n",
       "TTTACCATCCGCAGTG-1-HCAHeart8287124-1          D11_Control   \n",
       "TTTACGTGTAGAGTTA-1-HCAHeart8287124-1          D11_Control   \n",
       "TTTACTGGTGTTTACG-1-HCAHeart8287124-1          D11_Control   \n",
       "TTTATGCGTCTCAGAT-1-HCAHeart8287124-1          D11_Control   \n",
       "TTTCAGTGTACCTTCC-1-HCAHeart8287124-1          D11_Control   \n",
       "\n",
       "                                         Location_Patient  \\\n",
       "AAACCCAAGGTACAGC-1-0-0                Ischaemic_17MM00085   \n",
       "AAACCCACACTTGAGT-1-0-0                Ischaemic_17MM00085   \n",
       "AAACGAAAGGAACGAA-1-0-0                Ischaemic_17MM00085   \n",
       "AAACGAATCCGAAATC-1-0-0                Ischaemic_17MM00085   \n",
       "AAACGCTGTAGGGTAC-1-0-0                Ischaemic_17MM00085   \n",
       "...                                                   ...   \n",
       "TTTACCATCCGCAGTG-1-HCAHeart8287124-1          Control_D11   \n",
       "TTTACGTGTAGAGTTA-1-HCAHeart8287124-1          Control_D11   \n",
       "TTTACTGGTGTTTACG-1-HCAHeart8287124-1          Control_D11   \n",
       "TTTATGCGTCTCAGAT-1-HCAHeart8287124-1          Control_D11   \n",
       "TTTCAGTGTACCTTCC-1-HCAHeart8287124-1          Control_D11   \n",
       "\n",
       "                                                   pool_key  \\\n",
       "AAACCCAAGGTACAGC-1-0-0                   IHD__17MM00085__PC   \n",
       "AAACCCACACTTGAGT-1-0-0                  IHD__17MM00085__vCM   \n",
       "AAACGAAAGGAACGAA-1-0-0                  IHD__17MM00085__vCM   \n",
       "AAACGAATCCGAAATC-1-0-0                   IHD__17MM00085__FB   \n",
       "AAACGCTGTAGGGTAC-1-0-0                   IHD__17MM00085__FB   \n",
       "...                                                     ...   \n",
       "TTTACCATCCGCAGTG-1-HCAHeart8287124-1  control__D11__Myeloid   \n",
       "TTTACGTGTAGAGTTA-1-HCAHeart8287124-1      control__D11__vCM   \n",
       "TTTACTGGTGTTTACG-1-HCAHeart8287124-1       control__D11__FB   \n",
       "TTTATGCGTCTCAGAT-1-HCAHeart8287124-1      control__D11__vCM   \n",
       "TTTCAGTGTACCTTCC-1-HCAHeart8287124-1       control__D11__EC   \n",
       "\n",
       "                                     Group_Patient_celltype  \n",
       "AAACCCAAGGTACAGC-1-0-0                   IHD__17MM00085__PC  \n",
       "AAACCCACACTTGAGT-1-0-0                  IHD__17MM00085__vCM  \n",
       "AAACGAAAGGAACGAA-1-0-0                  IHD__17MM00085__vCM  \n",
       "AAACGAATCCGAAATC-1-0-0                   IHD__17MM00085__FB  \n",
       "AAACGCTGTAGGGTAC-1-0-0                   IHD__17MM00085__FB  \n",
       "...                                                     ...  \n",
       "TTTACCATCCGCAGTG-1-HCAHeart8287124-1  control__D11__Myeloid  \n",
       "TTTACGTGTAGAGTTA-1-HCAHeart8287124-1      control__D11__vCM  \n",
       "TTTACTGGTGTTTACG-1-HCAHeart8287124-1       control__D11__FB  \n",
       "TTTATGCGTCTCAGAT-1-HCAHeart8287124-1      control__D11__vCM  \n",
       "TTTCAGTGTACCTTCC-1-HCAHeart8287124-1       control__D11__EC  \n",
       "\n",
       "[64826 rows x 76 columns]"
      ]
     },
     "execution_count": 51,
     "metadata": {},
     "output_type": "execute_result"
    }
   ],
   "source": [
    "global_all.obs"
   ]
  },
  {
   "cell_type": "code",
   "execution_count": 52,
   "metadata": {},
   "outputs": [],
   "source": [
    "x=pd.crosstab(global_all.obs['cell_type2'],\n",
    "            global_all.obs['Patient'])"
   ]
  },
  {
   "cell_type": "code",
   "execution_count": 53,
   "metadata": {},
   "outputs": [],
   "source": [
    "x.to_csv( OUTDIR + \"/ABSOLUTE_CELLTYPE_NUMBER.csv\")"
   ]
  },
  {
   "cell_type": "code",
   "execution_count": null,
   "metadata": {},
   "outputs": [],
   "source": []
  },
  {
   "cell_type": "code",
   "execution_count": 65,
   "metadata": {},
   "outputs": [],
   "source": [
    "adata2 = adata.copy()\n",
    "sc.pp.normalize_total(adata, target_sum=1e4)\n",
    "#sc.pp.log1p(adata)\n",
    "adata.raw = adata.copy()"
   ]
  },
  {
   "cell_type": "code",
   "execution_count": 66,
   "metadata": {},
   "outputs": [],
   "source": [
    "global_all = adata"
   ]
  },
  {
   "attachments": {},
   "cell_type": "markdown",
   "metadata": {},
   "source": [
    "### Mean expression for plotting"
   ]
  },
  {
   "cell_type": "code",
   "execution_count": 67,
   "metadata": {},
   "outputs": [],
   "source": [
    "global_all.obs['Group_Patient_celltype']=[str(i) + \"__\" + str(j) + \"__\" + str(k) for i,j,k in zip(global_all.obs.Location, \n",
    "                                                                                      global_all.obs.Patient,\n",
    "                                                                                        global_all.obs.cell_type2)]"
   ]
  },
  {
   "cell_type": "code",
   "execution_count": 68,
   "metadata": {},
   "outputs": [],
   "source": [
    "subset_=sc.AnnData(global_all[:,global_all.var.index].raw.X, # \n",
    "                  obs=global_all.obs,\n",
    "                  var=global_all[:,global_all.var.index].raw.var\n",
    "                 )"
   ]
  },
  {
   "cell_type": "code",
   "execution_count": 69,
   "metadata": {},
   "outputs": [],
   "source": [
    "subset_.raw=subset_\n",
    "x=correlation_analysis(subset_, 'Group_Patient_celltype', 'mean') # MEan per Gene_Celltype_Patient\n",
    "x=pd.DataFrame(x)\n",
    "x.index=global_all.var.index"
   ]
  },
  {
   "cell_type": "code",
   "execution_count": 73,
   "metadata": {},
   "outputs": [],
   "source": [
    "x.to_csv(OUTDIR + \"/ALL_CELLTYPE_NORMALISED_MEAN_EXP.csv\")"
   ]
  },
  {
   "cell_type": "code",
   "execution_count": null,
   "metadata": {},
   "outputs": [],
   "source": []
  },
  {
   "attachments": {},
   "cell_type": "markdown",
   "metadata": {},
   "source": [
    "### Mean expression for plotting"
   ]
  },
  {
   "cell_type": "code",
   "execution_count": 33,
   "metadata": {},
   "outputs": [],
   "source": [
    "global_all.obs['Group_Patient_celltype']=[str(i) + \"__\" + str(j) + \"__\" + str(k) for i,j,k in zip(global_all.obs.Location, \n",
    "                                                                                      global_all.obs.Patient,\n",
    "                                                                                        global_all.obs.cell_type2)]"
   ]
  },
  {
   "cell_type": "code",
   "execution_count": 34,
   "metadata": {},
   "outputs": [],
   "source": [
    "subset_=sc.AnnData(global_all[:,global_all.var.index].raw.X, # \n",
    "                  obs=global_all.obs,\n",
    "                  var=global_all[:,global_all.var.index].raw.var\n",
    "                 )"
   ]
  },
  {
   "cell_type": "code",
   "execution_count": 35,
   "metadata": {},
   "outputs": [],
   "source": [
    "subset_.var = subset_.var.reset_index().set_index('gene_ids')"
   ]
  },
  {
   "cell_type": "code",
   "execution_count": 39,
   "metadata": {},
   "outputs": [],
   "source": [
    "subset_.raw=subset_\n",
    "x=correlation_analysis(subset_, 'Group_Patient_celltype', 'mean') # MEan per Gene_Celltype_Patient\n",
    "x=pd.DataFrame(x)\n",
    "x.index=subset_.var.index"
   ]
  },
  {
   "cell_type": "code",
   "execution_count": 41,
   "metadata": {},
   "outputs": [],
   "source": [
    "x.to_csv(OUTDIR + \"/ALL_CELLTYPE_NORMALISED_MEAN_EXP_geneID.csv\")"
   ]
  },
  {
   "cell_type": "code",
   "execution_count": null,
   "metadata": {},
   "outputs": [],
   "source": []
  }
 ],
 "metadata": {
  "kernelspec": {
   "display_name": "Python [conda env:scanpy1.8.2]",
   "language": "python",
   "name": "conda-env-scanpy1.8.2-py"
  },
  "language_info": {
   "codemirror_mode": {
    "name": "ipython",
    "version": 3
   },
   "file_extension": ".py",
   "mimetype": "text/x-python",
   "name": "python",
   "nbconvert_exporter": "python",
   "pygments_lexer": "ipython3",
   "version": "3.9.7"
  }
 },
 "nbformat": 4,
 "nbformat_minor": 4
}
